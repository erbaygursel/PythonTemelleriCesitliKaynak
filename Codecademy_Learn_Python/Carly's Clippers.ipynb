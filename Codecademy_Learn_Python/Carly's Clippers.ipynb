{
 "cells": [
  {
   "attachments": {},
   "cell_type": "markdown",
   "metadata": {},
   "source": [
    "You are the Data Analyst at Carly’s Clippers, the newest hair salon on the block. Your job is to go through the lists of data that have been collected in the past couple of weeks. You will be calculating some important metrics that Carly can use to plan out the operation of the business for the rest of the month.\n",
    "\n",
    "You have been provided with three lists:\n",
    "\n",
    "hairstyles: the names of the cuts offered at Carly’s Clippers.\n",
    "prices: the price of each hairstyle in the hairstyles list.\n",
    "last_week: the number of purchases for each hairstyle type in the last week.\n",
    "Each index in hairstyles corresponds to an associated index in prices and last_week.\n",
    "\n",
    "For example, The hairstyle \"bouffant\" has an associated price of 30 from the prices list, and was purchased 2 times in the last week as shown in the last_week list. Each of these elements are in the first index of their respective lists."
   ]
  },
  {
   "cell_type": "code",
   "execution_count": 9,
   "metadata": {},
   "outputs": [
    {
     "name": "stdout",
     "output_type": "stream",
     "text": [
      "Average Haircut Price:  31.875\n",
      "[25, 20, 35, 15, 15, 30, 45, 30]\n",
      "Total Revenue:  1085\n",
      "155.0\n",
      "[25, 20, 15, 15]\n",
      "['bouffant', 'pixie', 'crew', 'bowl']\n"
     ]
    }
   ],
   "source": [
    "hairstyles = [\"bouffant\", \"pixie\", \"dreadlocks\", \"crew\", \"bowl\", \"bob\", \"mohawk\", \"flattop\"]\n",
    "\n",
    "prices = [30, 25, 40, 20, 20, 35, 50, 35]\n",
    "\n",
    "last_week = [2, 3, 5, 8, 4, 4, 6, 2]\n",
    "total_price = 0\n",
    "for price in prices:\n",
    "  total_price += price\n",
    "average_price = total_price / len(prices)\n",
    "print(\"Average Haircut Price: \",average_price)\n",
    "\n",
    "new_prices = [price - 5 for price in prices]\n",
    "print(new_prices)\n",
    "#Revenue\n",
    "total_revenue = 0\n",
    "for i in range(len(hairstyles)):\n",
    "  total_revenue += prices[i] * last_week[i]\n",
    "print(\"Total Revenue: \",total_revenue)\n",
    "average_daily_revenue = total_revenue / 7\n",
    "print(average_daily_revenue)\n",
    "#Prices under 30\n",
    "cuts_under_30 = [new_prices[i] for i in range(len(new_prices)-1) if new_prices[i] < 30]\n",
    "print(cuts_under_30)\n",
    "#Hairstyles udner 30\n",
    "hairstyles_under_30 = [\n",
    "  hairstyles[i]\n",
    "  for i in range(len(hairstyles))\n",
    "  if new_prices[i] < 30\n",
    "]\n",
    "print(hairstyles_under_30)"
   ]
  }
 ],
 "metadata": {
  "kernelspec": {
   "display_name": "Python 3",
   "language": "python",
   "name": "python3"
  },
  "language_info": {
   "codemirror_mode": {
    "name": "ipython",
    "version": 3
   },
   "file_extension": ".py",
   "mimetype": "text/x-python",
   "name": "python",
   "nbconvert_exporter": "python",
   "pygments_lexer": "ipython3",
   "version": "3.11.2"
  },
  "orig_nbformat": 4,
  "vscode": {
   "interpreter": {
    "hash": "ffe91df24089a53a2802270bb6c8b7fa37967dc8db9889f77818759ca664ef92"
   }
  }
 },
 "nbformat": 4,
 "nbformat_minor": 2
}
