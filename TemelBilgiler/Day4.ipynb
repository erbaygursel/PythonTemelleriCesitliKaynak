{
 "cells": [
  {
   "cell_type": "code",
   "execution_count": 18,
   "metadata": {},
   "outputs": [
    {
     "name": "stdout",
     "output_type": "stream",
     "text": [
      "12 13 14\n",
      "13 12 14\n",
      "65\n",
      "17\n",
      "(1, 2, 3)\n",
      "<class 'tuple'>\n",
      "1 2 3\n",
      "(1, 2, 3, 4, 5)\n",
      "<class 'tuple'>\n",
      "1 2 [3, 4, 5]\n",
      "1 2 4\n"
     ]
    }
   ],
   "source": [
    "#----- OPERATÖRLER-----\n",
    "\n",
    "# 1.KISIM = ATAMA OPERATÖRLERİ\n",
    "\n",
    "x, y, z = 12, 13, 14 \n",
    "print(x,y,z)\n",
    "\n",
    "x, y = y, x\n",
    "print(x,y,z)\n",
    "\n",
    "x *= 5\n",
    "y += 5\n",
    "print(x)\n",
    "print(y)\n",
    "\n",
    "\n",
    "values = 1, 2, 3 # TUPLE LİSTESİ\n",
    "\n",
    "print(values)\n",
    "print(type(values))\n",
    "\n",
    "x, y, z = values\n",
    "\n",
    "print(x,y,z)\n",
    "\n",
    "# Eğerki values değerleri değişken sayısından fazlaysa neler olabilir?\n",
    "\n",
    "# values = 1, 2, 3,4\n",
    "\n",
    "# x, y, z = values\n",
    "#print(x,y,x) # Çok fazla nesne olduğu hatasını alırız\n",
    "\n",
    "#Şöyle yapabiliriz\n",
    "\n",
    "values = 1, 2, 3, 4, 5\n",
    "\n",
    "print(values)\n",
    "print(type(values))\n",
    "\n",
    "x, y, *z = values\n",
    "\n",
    "print(x, y, z)\n",
    "print(x, y, z[1])\n",
    "\n",
    "# Bu haliyle de arta kalanları liste haline getirmiş olur eklediğimiz yıldız ile."
   ]
  },
  {
   "cell_type": "code",
   "execution_count": 25,
   "metadata": {},
   "outputs": [
    {
     "name": "stdout",
     "output_type": "stream",
     "text": [
      "(1, [5, 7, 10], 6) z'nin küpü:  216\n",
      "22\n"
     ]
    }
   ],
   "source": [
    "x, y, z = 2, 5, 10\n",
    "\n",
    "rakamlar = 1, 5, 7, 10, 6\n",
    "\n",
    "x, *y, z = rakamlar\n",
    "print((x,y,z), \"z'nin küpü: \", z**3)\n",
    "\n",
    "print(y[0]+y[1]+y[2])\n"
   ]
  },
  {
   "cell_type": "code",
   "execution_count": null,
   "metadata": {},
   "outputs": [],
   "source": [
    "# KARŞILAŞTIRMA OPERATÖRLERİ\n",
    "\n"
   ]
  }
 ],
 "metadata": {
  "kernelspec": {
   "display_name": "Python 3",
   "language": "python",
   "name": "python3"
  },
  "language_info": {
   "codemirror_mode": {
    "name": "ipython",
    "version": 3
   },
   "file_extension": ".py",
   "mimetype": "text/x-python",
   "name": "python",
   "nbconvert_exporter": "python",
   "pygments_lexer": "ipython3",
   "version": "3.11.1"
  },
  "orig_nbformat": 4,
  "vscode": {
   "interpreter": {
    "hash": "ffe91df24089a53a2802270bb6c8b7fa37967dc8db9889f77818759ca664ef92"
   }
  }
 },
 "nbformat": 4,
 "nbformat_minor": 2
}
