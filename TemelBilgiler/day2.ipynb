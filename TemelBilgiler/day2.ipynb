{
 "cells": [
  {
   "cell_type": "code",
   "execution_count": 3,
   "metadata": {},
   "outputs": [
    {
     "name": "stdout",
     "output_type": "stream",
     "text": [
      "Herman Hesse'nin Demian kitabını pek severim\n",
      "Herman Hesse'nin Demian kitabını pek severim\n",
      "mireves kep ınıbatik naimeD nin'esseH namreH\n"
     ]
    }
   ],
   "source": [
    "# Dizideki ifadeler tersten yazdırmak istersek;\n",
    "\n",
    "hobi = \"Herman Hesse'nin Demian kitabını pek severim\"\n",
    "print(hobi[::]) # örnek\n",
    "print(hobi[::1]) # aynı sonuç farklı yöntem\n",
    "print(hobi[::-1]) #tersten gitmek istersek ise (-1) demeliyiz"
   ]
  },
  {
   "cell_type": "code",
   "execution_count": 6,
   "metadata": {},
   "outputs": [
    {
     "name": "stdout",
     "output_type": "stream",
     "text": [
      "1234512345123451234512345\n",
      "5432154321543215432154321\n",
      "11111\n"
     ]
    }
   ],
   "source": [
    "deneme = \"12345\" * 5\n",
    "print(deneme)\n",
    "print(deneme[::-1])\n",
    "print(deneme[::5])\n"
   ]
  },
  {
   "cell_type": "code",
   "execution_count": 11,
   "metadata": {},
   "outputs": [
    {
     "name": "stdout",
     "output_type": "stream",
     "text": [
      "SELAMLAR, PYTHON ÖĞRENMEK EPEY EĞLENCELI!\n",
      "selamlar, python öğrenmek epey eğlenceli!\n",
      "Selamlar, Python Öğrenmek Epey Eğlenceli!\n",
      "['Selamlar,', 'Python', 'Öğrenmek', 'Epey', 'Eğlenceli!']\n",
      "Selamlar,\n"
     ]
    }
   ],
   "source": [
    "#STRING METODLARI\n",
    "\n",
    "yazı = \"Selamlar, Python öğrenmek epey eğlenceli!\"\n",
    "\n",
    "yazı = yazı.upper() #Bütün karakterler büyük harf olur.\n",
    "\n",
    "print(yazı)\n",
    "\n",
    "yazı = yazı.lower() #Bütün karakterler küçük harf olur.capitalize\n",
    "\n",
    "print(yazı)\n",
    "\n",
    "yazı = yazı.title() #Her kelimenin baş harfi büyük harfe çevirilir.\n",
    "\n",
    "print(yazı)\n",
    "\n",
    "yazı = yazı.strip() #Karakterin başında boşluk varsa bunu ortadan kaldırır.\n",
    "\n",
    "yazı = yazı.split() #Yazıda boşluk olan her yerden itibaren ayırıp bir dizi oluşturur.\n",
    "\n",
    "print(yazı)\n",
    "\n",
    "#Şu haliyle yazı değişkenimiz bir dizi formatına dönüştüğü için şunu yapabiliriz ;\n",
    "\n",
    "print(yazı[0])"
   ]
  },
  {
   "cell_type": "code",
   "execution_count": 25,
   "metadata": {},
   "outputs": [
    {
     "name": "stdout",
     "output_type": "stream",
     "text": [
      "['Selamlar', ' Python öğrenmek epey eğlenceli!']\n",
      "------\n",
      " Python öğrenmek epey eğlenceli!\n",
      "Selamlar, Python öğrenmek epey eğlenceli!\n"
     ]
    }
   ],
   "source": [
    "yazı = \"Selamlar, Python öğrenmek epey eğlenceli!\"\n",
    "\n",
    "#Peki boşluklardan değilde virgülden itibaren ayırmak istersek (ya da noktadan) ne yapmalıyız ;\n",
    "\n",
    "yazı = yazı.split(\",\")\n",
    "print(yazı)\n",
    "print(\"------\")\n",
    "print(yazı[1])\n",
    "\n",
    "#Peki ya bu ayırdığımız parçaları tekrardan bir araya getirmek istersek;\n",
    "\n",
    "yazı = \",\".join(yazı)\n",
    "print(yazı)\n",
    "\n",
    "# yazı = \"1\".join(yazı)\n",
    "# print(yazı)\n"
   ]
  },
  {
   "cell_type": "code",
   "execution_count": 47,
   "metadata": {},
   "outputs": [
    {
     "name": "stdout",
     "output_type": "stream",
     "text": [
      "26\n",
      "Selamlar, Python öğrenmek oldukça eğlenceli!\n",
      "Selamlar,*Python*öğrenmek*oldukça*eğlenceli!\n",
      "-S-e-l-e-m-l-e-r-,-*-k-y-t-h-o-n-*-ö-ğ-r-e-n-m-e-k-*-o-l-d-u-k-ç-e-*-e-ğ-l-e-n-c-e-l-i-!-\n",
      "*******************************Bunu bu kadar önemsediğini bilmiyordum*******************************\n"
     ]
    }
   ],
   "source": [
    "yazı = \"Selamlar, Python öğrenmek epey eğlenceli!\"\n",
    "\n",
    " #Arama yapmak istersek;\n",
    "\n",
    "index = yazı.find(\"epey\")\n",
    "print(index)\n",
    "\n",
    "index = yazı.find(\"asda\")\n",
    "# print(index)   # (-1) gelmesi aradğımiz şeyin olmadığını gösterir\n",
    "\n",
    "yazı = yazı.replace(\"epey\",\"oldukça\") # İstediğimiz kelimeyi bulup onu seeçtiğimiz kelime ile değiştirmek için.\n",
    "\n",
    "print(yazı)\n",
    " # Başka bir örnek daha yapalım, boşlukları * ile değiştirelim\n",
    "\n",
    "yazı = yazı.replace(\" \",\"*\")\n",
    "print(yazı)\n",
    "\n",
    "#Tek fonksiyon olmak zorunda değil, şu şekilde de olabilir.\n",
    "\n",
    "yazı = yazı.replace(\"\",\"-\").replace(\"a\",\"e\").replace(\"P\",\"k\")\n",
    "\n",
    "print(yazı)\n",
    "\n",
    "#Şöyle bir fonksiyon daha var; ortalamak üzerine.İnceleyelim..\n",
    "\n",
    "yazı2=\"Bunu bu kadar önemsediğini bilmiyordum\"\n",
    "\n",
    "yazı2 = yazı2.center(100,\"*\")\n",
    "\n",
    "print(yazı2)"
   ]
  }
 ],
 "metadata": {
  "kernelspec": {
   "display_name": "Python 3",
   "language": "python",
   "name": "python3"
  },
  "language_info": {
   "codemirror_mode": {
    "name": "ipython",
    "version": 3
   },
   "file_extension": ".py",
   "mimetype": "text/x-python",
   "name": "python",
   "nbconvert_exporter": "python",
   "pygments_lexer": "ipython3",
   "version": "3.11.1"
  },
  "orig_nbformat": 4,
  "vscode": {
   "interpreter": {
    "hash": "ffe91df24089a53a2802270bb6c8b7fa37967dc8db9889f77818759ca664ef92"
   }
  }
 },
 "nbformat": 4,
 "nbformat_minor": 2
}
