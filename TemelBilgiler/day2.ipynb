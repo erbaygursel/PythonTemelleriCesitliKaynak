{
 "cells": [
  {
   "cell_type": "code",
   "execution_count": 3,
   "metadata": {},
   "outputs": [
    {
     "name": "stdout",
     "output_type": "stream",
     "text": [
      "Herman Hesse'nin Demian kitabını pek severim\n",
      "Herman Hesse'nin Demian kitabını pek severim\n",
      "mireves kep ınıbatik naimeD nin'esseH namreH\n"
     ]
    }
   ],
   "source": [
    "# Dizideki ifadeler tersten yazdırmak istersek;\n",
    "\n",
    "hobi = \"Herman Hesse'nin Demian kitabını pek severim\"\n",
    "print(hobi[::]) # örnek\n",
    "print(hobi[::1]) # aynı sonuç farklı yöntem\n",
    "print(hobi[::-1]) #tersten gitmek istersek ise (-1) demeliyiz"
   ]
  },
  {
   "cell_type": "code",
   "execution_count": 6,
   "metadata": {},
   "outputs": [
    {
     "name": "stdout",
     "output_type": "stream",
     "text": [
      "1234512345123451234512345\n",
      "5432154321543215432154321\n",
      "11111\n"
     ]
    }
   ],
   "source": [
    "deneme = \"12345\" * 5\n",
    "print(deneme)\n",
    "print(deneme[::-1])\n",
    "print(deneme[::5])\n"
   ]
  },
  {
   "cell_type": "code",
   "execution_count": 11,
   "metadata": {},
   "outputs": [
    {
     "name": "stdout",
     "output_type": "stream",
     "text": [
      "SELAMLAR, PYTHON ÖĞRENMEK EPEY EĞLENCELI!\n",
      "selamlar, python öğrenmek epey eğlenceli!\n",
      "Selamlar, Python Öğrenmek Epey Eğlenceli!\n",
      "['Selamlar,', 'Python', 'Öğrenmek', 'Epey', 'Eğlenceli!']\n",
      "Selamlar,\n"
     ]
    }
   ],
   "source": [
    "#STRING METODLARI\n",
    "\n",
    "yazı = \"Selamlar, Python öğrenmek epey eğlenceli!\"\n",
    "\n",
    "yazı = yazı.upper() #Bütün karakterler büyük harf olur.\n",
    "\n",
    "print(yazı)\n",
    "\n",
    "yazı = yazı.lower() #Bütün karakterler küçük harf olur.capitalize\n",
    "\n",
    "print(yazı)\n",
    "\n",
    "yazı = yazı.title() #Her kelimenin baş harfi büyük harfe çevirilir.\n",
    "\n",
    "print(yazı)\n",
    "\n",
    "yazı = yazı.strip() #Karakterin başında boşluk varsa bunu ortadan kaldırır.\n",
    "\n",
    "yazı = yazı.split() #Yazıda boşluk olan her yerden itibaren ayırıp bir dizi oluşturur.\n",
    "\n",
    "print(yazı)\n",
    "\n",
    "#Şu haliyle yazı değişkenimiz bir dizi formatına dönüştüğü için şunu yapabiliriz ;\n",
    "\n",
    "print(yazı[0])"
   ]
  },
  {
   "cell_type": "code",
   "execution_count": 25,
   "metadata": {},
   "outputs": [
    {
     "name": "stdout",
     "output_type": "stream",
     "text": [
      "['Selamlar', ' Python öğrenmek epey eğlenceli!']\n",
      "------\n",
      " Python öğrenmek epey eğlenceli!\n",
      "Selamlar, Python öğrenmek epey eğlenceli!\n"
     ]
    }
   ],
   "source": [
    "yazı = \"Selamlar, Python öğrenmek epey eğlenceli!\"\n",
    "\n",
    "#Peki boşluklardan değilde virgülden itibaren ayırmak istersek (ya da noktadan) ne yapmalıyız ;\n",
    "\n",
    "yazı = yazı.split(\",\")\n",
    "print(yazı)\n",
    "print(\"------\")\n",
    "print(yazı[1])\n",
    "\n",
    "#Peki ya bu ayırdığımız parçaları tekrardan bir araya getirmek istersek;\n",
    "\n",
    "yazı = \",\".join(yazı)\n",
    "print(yazı)\n",
    "\n",
    "# yazı = \"1\".join(yazı)\n",
    "# print(yazı)\n"
   ]
  },
  {
   "cell_type": "code",
   "execution_count": 47,
   "metadata": {},
   "outputs": [
    {
     "name": "stdout",
     "output_type": "stream",
     "text": [
      "26\n",
      "Selamlar, Python öğrenmek oldukça eğlenceli!\n",
      "Selamlar,*Python*öğrenmek*oldukça*eğlenceli!\n",
      "-S-e-l-e-m-l-e-r-,-*-k-y-t-h-o-n-*-ö-ğ-r-e-n-m-e-k-*-o-l-d-u-k-ç-e-*-e-ğ-l-e-n-c-e-l-i-!-\n",
      "*******************************Bunu bu kadar önemsediğini bilmiyordum*******************************\n"
     ]
    }
   ],
   "source": [
    "yazı = \"Selamlar, Python öğrenmek epey eğlenceli!\"\n",
    "\n",
    " #Arama yapmak istersek;\n",
    "\n",
    "index = yazı.find(\"epey\")\n",
    "print(index)\n",
    "\n",
    "index = yazı.find(\"asda\")\n",
    "# print(index)   # (-1) gelmesi aradğımiz şeyin olmadığını gösterir\n",
    "\n",
    "yazı = yazı.replace(\"epey\",\"oldukça\") # İstediğimiz kelimeyi bulup onu seeçtiğimiz kelime ile değiştirmek için.\n",
    "\n",
    "print(yazı)\n",
    " # Başka bir örnek daha yapalım, boşlukları * ile değiştirelim\n",
    "\n",
    "yazı = yazı.replace(\" \",\"*\")\n",
    "print(yazı)\n",
    "\n",
    "#Tek fonksiyon olmak zorunda değil, şu şekilde de olabilir.\n",
    "\n",
    "yazı = yazı.replace(\"\",\"-\").replace(\"a\",\"e\").replace(\"P\",\"k\")\n",
    "\n",
    "print(yazı)\n",
    "\n",
    "#Şöyle bir fonksiyon daha var; ortalamak üzerine.İnceleyelim..\n",
    "\n",
    "yazı2=\"Bunu bu kadar önemsediğini bilmiyordum\"\n",
    "\n",
    "yazı2 = yazı2.center(100,\"*\")\n",
    "\n",
    "print(yazı2)"
   ]
  },
  {
   "cell_type": "code",
   "execution_count": 49,
   "metadata": {},
   "outputs": [
    {
     "name": "stdout",
     "output_type": "stream",
     "text": [
      "Programlama\n"
     ]
    }
   ],
   "source": [
    "website = \"http://www.sadikturan.com\"\n",
    "course  = \"Python Kursu: Baştan Sona Python Programlama Rehberiniz (40 saat)\"\n",
    "\n",
    "\n",
    "# 1-  ' Hello World ' karakter dizisinin baş ve sondaki boşluk karakterlerini silin.\n",
    "result = ' Hello World '.strip()\n",
    "result = ' Hello World '.lstrip()\n",
    "result = ' Hello World '.rstrip()\n",
    "\n",
    "result = website.lstrip('/:pth')\n",
    "\n",
    "# 2- 'www.sadikturan.com' içindeki sadikturan bilgisi haricindeki her karakteri silin.\n",
    "result = 'www.sadikturan.com'.strip('w.moc')\n",
    "\n",
    "# 3-  'course' karakter dizisinin tüm karakterlerini küçük harf yapın.\n",
    "result = course.lower()\n",
    "result = course.upper()\n",
    "result = course.title()\n",
    "\n",
    "# 4- 'website' içinde kaç tane a karakteri vardır ? (count('a'))\n",
    "result = website.count('a')\n",
    "result = website.count('www')\n",
    "result = website.count('www',0,10)\n",
    "\n",
    "# 5- 'website' \"www\" ile başlayıp com ile bitiyor mu?\n",
    "result = website.startswith('www')\n",
    "result = website.startswith('http')\n",
    "result = website.endswith('com')\n",
    "\n",
    "# 6-  'website' içinde '.com' ifadesi var mı?\n",
    "result = website.find('com')\n",
    "result = website.find('com',0,10)\n",
    "result = course.find('Python')\n",
    "result = course.rfind('Python')\n",
    "\n",
    "result = website.index('com')\n",
    "result = website.rindex('com')\n",
    "# result = website.rindex('comm') # exception\n",
    "\n",
    "# 7- 'course' içindeki karakterlerin hepsi alfabetik mi? (isalpha, isdigit)\n",
    "result = course.isalpha()\n",
    "result = 'Hello'.isalpha()\n",
    "result = course.isdigit()\n",
    "result = '123'.isdigit()\n",
    "\n",
    "# 8- 'Contents' ifadesini satırda 50 karakter içine yerleştirip sağ ve soluna * ekleyiniz.\n",
    "result = 'Contents'.center(50, '*')\n",
    "result = 'Contents'.ljust(50, '*')\n",
    "result = 'Contents'.rjust(50, '*')\n",
    "\n",
    "# 9-  'course' karakter dizisindeki tüm boşluk karakterlerini '-' ile değiştirin.\n",
    "result = course.replace(' ', '-')\n",
    "result = course.replace(' ', '-',5)\n",
    "result = course.replace(' ', '')\n",
    "\n",
    "# 10- 'Hello World' karakter dizisinin 'World' ifadesini 'There' olarak değiştirin\n",
    "result = 'Hello World'.replace('World','There')\n",
    "\n",
    "# 11-  'course' karakter dizisini boşluk karakterlerinden ayırın.\n",
    "result = course.split(' ')\n",
    "# result = result[2]\n",
    "result = result[5]\n",
    "\n",
    "print(result)   "
   ]
  },
  {
   "attachments": {},
   "cell_type": "markdown",
   "metadata": {},
   "source": [
    "###Strig methodları ile ilgili birçok fonksiyon var ve hepsini ezberlemek manasız. O sebeble bol bol uygulama yapmak önemli olan ve gerektiğinde https://www.w3schools.com/python/python_ref_string.asp adresi üzerinden methodları inceleyip nasıl kullanıldıklarına bakabilirsin.\n"
   ]
  },
  {
   "cell_type": "code",
   "execution_count": 56,
   "metadata": {},
   "outputs": [
    {
     "name": "stdout",
     "output_type": "stream",
     "text": [
      "kendine\n",
      "['Erbay', True, 'Ömer', False]\n",
      "[['Erbay', True], ['Ömer', False]]\n",
      "[['Erbay', True], ['Ömer', False]]\n",
      "Ömer\n"
     ]
    }
   ],
   "source": [
    "# YENİ KONUMUZ----LİSTELER\n",
    "\n",
    "behzat = \"Bu cümle kendine gönderme yapıyor\".split()\n",
    "# Normal bir stringi split metodu ile dizi haline getirebileceğimizi biliyoruz\n",
    "print(behzat[2])\n",
    "#Bundan sonraki süreçlerde str üzerinden yaptıklarımızı hazır verilen  listeler üzerinden yapıcaz ve ona özgü metodlar ile ilgileneceğiz.\n",
    "list1 = [\"Erbay\", True]\n",
    "list2 = [\"Ömer\", False]\n",
    "\n",
    "newlist = list1 + list2\n",
    "print(newlist)\n",
    "\n",
    "print([list1, list2])\n",
    "\n",
    "\n",
    "newlist2 = [list1,list2]\n",
    "print(newlist2)\n",
    "\n",
    "print(newlist2[1][0])"
   ]
  },
  {
   "cell_type": "code",
   "execution_count": 57,
   "metadata": {},
   "outputs": [
    {
     "name": "stdout",
     "output_type": "stream",
     "text": [
      "Yiğit Bilgi 9 yaşında ve not ortalaması 66.66666666666667\n"
     ]
    }
   ],
   "source": [
    "# 1-  \"Bmw, Mercedes, Opel, Mazda\" elemanlarına sahip bir liste oluşturunuz.\n",
    "arabalar = ['Bmw','Mercedes','Opel','Mazda']\n",
    "# 2-  Liste Kaç elemanlıdır ?\n",
    "result = len(arabalar)\n",
    "\n",
    "# 3-  Listenin ilk ve son elemanı nedir ?\n",
    "result = arabalar[0] #ilk\n",
    "result = arabalar[3] # son\n",
    "result = arabalar[-1] # son-aynı şey\n",
    "\n",
    "# 4-  Mazda değerini Toyota ile değiştirin.\n",
    "arabalar[-1]= 'Toyota'\n",
    "result = arabalar\n",
    "\n",
    "# 5-  Mercedes listenin bir elemanı mıdır ?\n",
    "result = 'Mercedes' in arabalar # (in) burada bir operatördür.\n",
    "\n",
    "# 6-  Listenin -2 indeksindeki değer nedir ?\n",
    "result = arabalar[-2]\n",
    "\n",
    "# 7-  Listenin ilk 3 elemanını alın.\n",
    "result = arabalar[0:3]\n",
    "result = arabalar[:3]\n",
    "result = arabalar[-2:]\n",
    "\n",
    "# 8-  Listenin son 2 elemanı yerine \"Totoya\" ve \"Renault\" değerlerini ekleyin.\n",
    "arabalar[-2:] = ['Toyota','Renault']\n",
    "result = arabalar\n",
    "\n",
    "# 9-  Listenin üzerine \"Audi\" ve \"Nissan\" değerlerini ekleyin.\n",
    "result = arabalar + ['Audi','Nissan']\n",
    "\n",
    "# 10- Listenin son elemanını silin.\n",
    "del arabalar[-1] #(del) komutunu kullanırız.\n",
    "result = arabalar\n",
    "\n",
    "# 11- Liste elemanlarını tersten yazdırınız.\n",
    "result = arabalar[::-1]\n",
    "\n",
    "# 12- Aşağıdaki verileri bir liste içinde saklayınız. \n",
    "\n",
    "      # studentA: Yiğit Bilgi 2010, (70,60,70)\n",
    "      # studentB: Sena Turan  1999, (80,80,70)\n",
    "      # studentC: Ahmet Turan 1998, (80,70,90) \n",
    "\n",
    "studentA = ['Yiğit','Bilgi',2010,[70,60,70]]\n",
    "studentB = ['Sena','Turan',1999,[80,80,70]]\n",
    "studentC = ['Ahmet','Turan',1998,[80,70,90]]\n",
    "\n",
    "# 13- Liste elemanlarını ekrana yazdırınız.\n",
    "\n",
    "result = studentA[0]\n",
    "result = studentB[1]\n",
    "result = studentC[3][1]\n",
    "\n",
    "result = f\"{studentA[0]} {studentA[1]} {2019-studentA[2]} yaşında ve not ortalaması {(studentA[3][0] + studentA[3][1] + studentA[3][2])/3}\"\n",
    "\n",
    "print(result)"
   ]
  },
  {
   "cell_type": "code",
   "execution_count": 58,
   "metadata": {},
   "outputs": [
    {
     "name": "stdout",
     "output_type": "stream",
     "text": [
      "[78, 59, 52, 49, 40, 16, 10, 10, 9, 5, 1]\n",
      "['y', 's', 's', 'g', 'b', 'a', 'a']\n",
      "11\n",
      "7\n",
      "2\n",
      "2\n",
      "[]\n"
     ]
    }
   ],
   "source": [
    "numbers = [1, 10, 5, 16, 4, 9, 10]\n",
    "letters = ['a', 'g', 's', 'b', 'y', 'a', 's']\n",
    "\n",
    "val = min(numbers)\n",
    "val = max(numbers)\n",
    "val = max(letters) #alfabetik olarak max-min inceler.\n",
    "val = min(letters)\n",
    "\n",
    "val = numbers[3:6]\n",
    "val = numbers[:3]\n",
    "val = numbers[4:]\n",
    "\n",
    "numbers[4] = 40 #Burada 4.index üzerindeki değeri 40 olarak değiştirmiş oluyoruz artık.\n",
    "\n",
    "numbers.append(49)# listenin en sonuna eklenir\n",
    "numbers.append(59)\n",
    "numbers.insert(3, 78) #İstediğimiz index sırasına ekleme yapar.\n",
    "numbers.insert(-1,52) #(-1) olarak kullanırsak append ile aynı işlevi görmüş oluyor\n",
    "\n",
    "numbers.pop() #listenin sonunda eleman siler\n",
    "numbers.pop(0)#0. indexde bulunan elemanı siler\n",
    "numbers.pop(-1)\n",
    "numbers.remove(59) #Bu methodla silmek istediğiniz değerin kendisini yazarak yaparız.\n",
    "\n",
    "\n",
    "numbers.sort() #Küçükten büyüğü göre diziyi sıralar.\n",
    "numbers.reverse()#Tersine sıralar.\n",
    "\n",
    "letters.sort() #alfabetik sıralama\n",
    "letters.reverse()\n",
    "\n",
    "\n",
    "print(numbers)\n",
    "print(letters)\n",
    "\n",
    "print(len(numbers))\n",
    "print(len(letters))\n",
    "\n",
    "print(numbers.count(10)) #Numbers üzerinde 10 kaç tane var?\n",
    "print(letters.count('a'))\n",
    "\n",
    "numbers.clear() #Bütün diziyi temizler.\n",
    "print(numbers)"
   ]
  },
  {
   "cell_type": "code",
   "execution_count": 61,
   "metadata": {},
   "outputs": [
    {
     "name": "stdout",
     "output_type": "stream",
     "text": [
      "['nike', 'adidas', 'koton']\n"
     ]
    }
   ],
   "source": [
    "names = ['Ali','Yağmur','Hakan','Deniz']\n",
    "years = [1998, 2000, 1998, 1987]\n",
    "\n",
    "# 1-  \"Cenk\" ismini listenin sonuna ekleyiniz.\n",
    "names.append('Cenk')\n",
    "\n",
    "# 2-  \"Sena\" değerini listenin başına ekleyiniz.\n",
    "names.insert(0, 'Sena')\n",
    "names.insert(-1, 'Mehmet')\n",
    "names.insert(len(names), 'Mehmet')\n",
    "\n",
    "# 3-  \"Deniz\" ismini listeden siliniz.\n",
    "names.remove('Deniz')\n",
    "names.pop()\n",
    "names.pop(1)\n",
    "\n",
    "# 4-  \"Deniz\" isminin indeksi nedir ?\n",
    "index  = names.index('Deniz')\n",
    "names.pop(index)\n",
    "\n",
    "# 5-  \"Ali\" listenin bir elemanı mıdır ?\n",
    "result = 'Ali' in names\n",
    "result = names.index('Ali')\n",
    "\n",
    "# 6-  Liste elemanlarını ters çevirin.\n",
    "names.reverse()\n",
    "\n",
    "# 7-  Liste elemanlarını alfabetik olarak sıralayınız.\n",
    "names.sort()\n",
    "\n",
    "# 8-  years listesini rakamsal büyüklüğe göre sıralayınız.\n",
    "years.sort()\n",
    "\n",
    "# 9-  str = \"Chevrolet,Dacia\" karakter dizisini listeye çeviriniz.\n",
    "str = \"Chevrolet,Dacia\"\n",
    "result = str.split(',')\n",
    "\n",
    "# 10- years dizisinin en büyük ve en küçük elemanı nedir ?\n",
    "min = min(years)\n",
    "max = max(years)\n",
    "print(min, max)\n",
    "\n",
    "# 11- years dizisinde kaç tane 1998 değeri vardır ?\n",
    "result = years.count(1998)\n",
    "\n",
    "# 12- years dizisinin tüm elemanlarını siliniz.\n",
    "years.clear()\n",
    "\n",
    "# 13- Kullanıcıdan alacağınız 3 tane marka bilgisini bir listede saklayınız.\n",
    "\n",
    "markalar = []\n",
    "\n",
    "marka = input(\"marka: \")\n",
    "markalar.append(marka)\n",
    "\n",
    "marka = input(\"marka: \")\n",
    "markalar.append(marka)\n",
    "\n",
    "marka = input(\"marka: \")\n",
    "markalar.append(marka)\n",
    "\n",
    "print(markalar)"
   ]
  }
 ],
 "metadata": {
  "kernelspec": {
   "display_name": "Python 3",
   "language": "python",
   "name": "python3"
  },
  "language_info": {
   "codemirror_mode": {
    "name": "ipython",
    "version": 3
   },
   "file_extension": ".py",
   "mimetype": "text/x-python",
   "name": "python",
   "nbconvert_exporter": "python",
   "pygments_lexer": "ipython3",
   "version": "3.11.1"
  },
  "orig_nbformat": 4,
  "vscode": {
   "interpreter": {
    "hash": "ffe91df24089a53a2802270bb6c8b7fa37967dc8db9889f77818759ca664ef92"
   }
  }
 },
 "nbformat": 4,
 "nbformat_minor": 2
}
