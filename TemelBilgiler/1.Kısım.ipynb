{
 "cells": [
  {
   "cell_type": "code",
   "execution_count": 8,
   "metadata": {},
   "outputs": [
    {
     "name": "stdout",
     "output_type": "stream",
     "text": [
      "<class 'int'>\n",
      "<class 'float'>\n",
      "<class 'str'>\n"
     ]
    }
   ],
   "source": [
    "#veri tipleri ve ufak hatırlatmalar\n",
    "# int= TAM SAYILAR\n",
    "# float = KESİRLİ SAYILAR\n",
    "# str = Kelimeler/ Yazı\n",
    "type(2)\n",
    "type(2.2)\n",
    "type(\"ayyynen\")\n",
    "print(type(2))\n",
    "print(type(2.2))\n",
    "print(type(\"Nedir bu?\"))\n"
   ]
  },
  {
   "cell_type": "code",
   "execution_count": 14,
   "metadata": {},
   "outputs": [
    {
     "name": "stdout",
     "output_type": "stream",
     "text": [
      "5\n",
      "2\n",
      "64\n",
      "-6\n",
      "2\n",
      "-32\n"
     ]
    }
   ],
   "source": [
    "# Matematiksel işlemler : // (TAM BÖLME) % (MOD BULMA-KALAN BULMA) ** (ÜSSEL KUVVET)\n",
    "print( 22 // 4)\n",
    "print(22 % 4)\n",
    "print(2 ** 6)\n",
    "\n",
    "# Negatif sayılar içinde çalışalım:\n",
    "print( -22 // 4) # Yine aşağı yuvarlıyor fakat bu sefer (-6) oluyor sonuç.\n",
    "print( -22 % 4)\n",
    "print( -2 ** 5)"
   ]
  },
  {
   "attachments": {},
   "cell_type": "markdown",
   "metadata": {},
   "source": [
    "##Değişkenler ilgili bazı kurallar:\n",
    "- Sayı ile başlanarak değişken atanmaz..\n",
    "- \"=\" işaretinin yanına - veya + koymak ile ilk atanan değer üzerinden yeniden hesap yapılır\n",
    "\n",
    "- Türkçe karakter kullanmayız.\n",
    "- Değişken 2 veya daha fazla kelimeden oluşuyorsa ya aralarına \"_\" koymalıyız ya da hepsini bitişik yazmalıyız; tabi bunu yaparken 2.kelimeye büyük harfla başlamak faydalı olur.Kısa bir örnek verelim\n"
   ]
  },
  {
   "cell_type": "code",
   "execution_count": 30,
   "metadata": {},
   "outputs": [
    {
     "name": "stdout",
     "output_type": "stream",
     "text": [
      "Sor ve öğren\n",
      "Gooogle it yahu!\n"
     ]
    }
   ],
   "source": [
    "buDegiskeniNasılYazmalıyım = \"Sor ve öğren\"\n",
    "bu_Degiskeni_Nasıl_Yazmalıyım = \"Gooogle it yahu!\"\n",
    "print(buDegiskeniNasılYazmalıyım)\n",
    "print(bu_Degiskeni_Nasıl_Yazmalıyım)"
   ]
  },
  {
   "cell_type": "code",
   "execution_count": 18,
   "metadata": {},
   "outputs": [
    {
     "name": "stdout",
     "output_type": "stream",
     "text": [
      "20\n",
      "40\n",
      "65\n",
      "48\n"
     ]
    }
   ],
   "source": [
    "sayi1 = 20\n",
    "print(sayi1)\n",
    "sayi1 = 40\n",
    "print(sayi1)\n",
    "sayi1 += 25\n",
    "print(sayi1)\n",
    "sayi1 -= 17\n",
    "print(sayi1)"
   ]
  },
  {
   "cell_type": "code",
   "execution_count": 23,
   "metadata": {},
   "outputs": [
    {
     "name": "stdout",
     "output_type": "stream",
     "text": [
      "Kemal\n",
      "True\n",
      "23\n"
     ]
    }
   ],
   "source": [
    "# Tek bie satırla birçok değişkene atama yapabiliriz\n",
    "\n",
    "sayi1, sayi2, name, isStudent = 23, 12, \"Kemal\", True\n",
    "print(name)\n",
    "print(isStudent)\n",
    "print(sayi1)"
   ]
  },
  {
   "cell_type": "code",
   "execution_count": 29,
   "metadata": {},
   "outputs": [
    {
     "name": "stdout",
     "output_type": "stream",
     "text": [
      "Selamlar\n",
      "Hey halk!\n",
      "--------\n",
      "Selam sana\n",
      "\n",
      "DemirAyak!\n"
     ]
    }
   ],
   "source": [
    "# Kod içerisinde 'ENTER KEY' etkisi yaratmak için \"\\n\" kullanabiliriz\n",
    "\n",
    "print(\"Selamlar\\nHey halk!\")\n",
    "print(\"--------\")\n",
    "print(\"Selam sana\\n\\nDemirAyak!\")"
   ]
  },
  {
   "cell_type": "code",
   "execution_count": null,
   "metadata": {},
   "outputs": [],
   "source": [
    "#Çoklu yorum satırı için üç tırnak (\"\"\") kullanırız.\n",
    "\n",
    "\"\"\"\n",
    "Aynen \n",
    "Imm,anladım.\n",
    "Yapma yahu!\n",
    "\n",
    "\"\"\""
   ]
  },
  {
   "cell_type": "code",
   "execution_count": 37,
   "metadata": {},
   "outputs": [
    {
     "name": "stdout",
     "output_type": "stream",
     "text": [
      "12\n",
      "83\n",
      "1283\n",
      "12\n",
      "83\n",
      "95\n"
     ]
    }
   ],
   "source": [
    "#TYPE CONVERSION\n",
    "# İnput fonksiyonuna özelbir durum belirtmedikçe buradan gelen değer STR kategorisinde olacak\n",
    "\n",
    "sayi1 = input(\"1.sayı girin: \")\n",
    "sayi2 = input(\"2.sayı girin: \")\n",
    "toplam = sayi1 + sayi2\n",
    "print(sayi1)\n",
    "print(sayi2)\n",
    "print(toplam)\n",
    "\n",
    "#Görüldüğü üzere bunlar İNT olarak kabul görmedi ve STR toplaması yaptı.\n",
    "\n",
    "\n",
    "sayi1 = int(input(\"1.sayı girin: \"))\n",
    "sayi2 = int(input(\"2.sayı girin: \"))\n",
    "toplam = sayi1 + sayi2\n",
    "print(sayi1)\n",
    "print(sayi2)\n",
    "print(toplam)\n"
   ]
  },
  {
   "attachments": {},
   "cell_type": "markdown",
   "metadata": {},
   "source": [
    "##Kısa not\n",
    "-Uzun bir kod serisini kısadan yorum satırına dönüştermek için hepsini seçip Ctrl +k+c yaparız, geri işlem içinse Ctrl + z yapmalıyız."
   ]
  },
  {
   "cell_type": "code",
   "execution_count": 38,
   "metadata": {},
   "outputs": [
    {
     "name": "stdout",
     "output_type": "stream",
     "text": [
      "1\n",
      "<class 'int'>\n"
     ]
    }
   ],
   "source": [
    "#TYPE CONVERSİON\n",
    "# bool to int\n",
    "\n",
    "isOnline = True\n",
    "isOnline = int(isOnline)\n",
    "print(isOnline)\n",
    "print(type(isOnline))\n",
    "\n",
    "# False deseydik sonucumuz \"0\" olacaktı.."
   ]
  }
 ],
 "metadata": {
  "kernelspec": {
   "display_name": "Python 3",
   "language": "python",
   "name": "python3"
  },
  "language_info": {
   "codemirror_mode": {
    "name": "ipython",
    "version": 3
   },
   "file_extension": ".py",
   "mimetype": "text/x-python",
   "name": "python",
   "nbconvert_exporter": "python",
   "pygments_lexer": "ipython3",
   "version": "3.11.1"
  },
  "orig_nbformat": 4,
  "vscode": {
   "interpreter": {
    "hash": "ffe91df24089a53a2802270bb6c8b7fa37967dc8db9889f77818759ca664ef92"
   }
  }
 },
 "nbformat": 4,
 "nbformat_minor": 2
}
