{
 "cells": [
  {
   "cell_type": "code",
   "execution_count": 8,
   "metadata": {},
   "outputs": [
    {
     "name": "stdout",
     "output_type": "stream",
     "text": [
      "<class 'int'>\n",
      "<class 'float'>\n",
      "<class 'str'>\n"
     ]
    }
   ],
   "source": [
    "#veri tipleri ve ufak hatırlatmalar\n",
    "# int= TAM SAYILAR\n",
    "# float = KESİRLİ SAYILAR\n",
    "# str = Kelimeler/ Yazı\n",
    "type(2)\n",
    "type(2.2)\n",
    "type(\"ayyynen\")\n",
    "print(type(2))\n",
    "print(type(2.2))\n",
    "print(type(\"Nedir bu?\"))\n"
   ]
  },
  {
   "cell_type": "code",
   "execution_count": 14,
   "metadata": {},
   "outputs": [
    {
     "name": "stdout",
     "output_type": "stream",
     "text": [
      "5\n",
      "2\n",
      "64\n",
      "-6\n",
      "2\n",
      "-32\n"
     ]
    }
   ],
   "source": [
    "# Matematiksel işlemler : // (TAM BÖLME) % (MOD BULMA-KALAN BULMA) ** (ÜSSEL KUVVET)\n",
    "print( 22 // 4)\n",
    "print(22 % 4)\n",
    "print(2 ** 6)\n",
    "\n",
    "# Negatif sayılar içinde çalışalım:\n",
    "print( -22 // 4) # Yine aşağı yuvarlıyor fakat bu sefer (-6) oluyor sonuç.\n",
    "print( -22 % 4)\n",
    "print( -2 ** 5)"
   ]
  }
 ],
 "metadata": {
  "kernelspec": {
   "display_name": "Python 3",
   "language": "python",
   "name": "python3"
  },
  "language_info": {
   "codemirror_mode": {
    "name": "ipython",
    "version": 3
   },
   "file_extension": ".py",
   "mimetype": "text/x-python",
   "name": "python",
   "nbconvert_exporter": "python",
   "pygments_lexer": "ipython3",
   "version": "3.11.1"
  },
  "orig_nbformat": 4,
  "vscode": {
   "interpreter": {
    "hash": "ffe91df24089a53a2802270bb6c8b7fa37967dc8db9889f77818759ca664ef92"
   }
  }
 },
 "nbformat": 4,
 "nbformat_minor": 2
}
