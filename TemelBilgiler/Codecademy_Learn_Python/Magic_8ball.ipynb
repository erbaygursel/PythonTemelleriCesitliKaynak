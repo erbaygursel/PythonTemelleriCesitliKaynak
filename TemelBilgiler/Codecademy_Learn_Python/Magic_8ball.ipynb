{
 "cells": [
  {
   "attachments": {},
   "cell_type": "markdown",
   "metadata": {},
   "source": [
    "The Magic 8-Ball is a popular toy developed in the 1950s for fortune-telling or advice seeking.\n",
    "Write a magic8.py Python program that can answer any “Yes” or “No” question with a different fortune each time it executes.\n"
   ]
  },
  {
   "cell_type": "code",
   "execution_count": 1,
   "metadata": {},
   "outputs": [
    {
     "name": "stdout",
     "output_type": "stream",
     "text": [
      "Erbay asks: Mutlu olabilecek miyiz?\n",
      "Magic 8 Ball's answer: Better not tell you now\n"
     ]
    }
   ],
   "source": [
    "\n",
    "\n",
    "import random\n",
    "\n",
    "name = \"Erbay\"\n",
    "question = \"Mutlu olabilecek miyiz?\"\n",
    "answer = \"\"\n",
    "\n",
    "random_number = random.randint(1, 9)\n",
    "# print(random_number)\n",
    "\n",
    "if random_number == 1:\n",
    "  answer = \"Yes - definitely\"\n",
    "elif random_number == 2:\n",
    "  answer = \"It is decidedly so\"\n",
    "elif random_number == 3:\n",
    "  answer = \"Without a doubt\"\n",
    "elif random_number == 4:\n",
    "  answer = \"Reply hazy, try again\"\n",
    "elif random_number == 5:\n",
    "  answer = \"Ask again later\"\n",
    "elif random_number == 6:\n",
    "  answer = \"Better not tell you now\"\n",
    "elif random_number == 7:\n",
    "  answer = \"My sources say no\"\n",
    "elif random_number == 8:\n",
    "  answer = \"Outlook not so good\"\n",
    "elif random_number == 9:\n",
    "  answer = \"Very doubtful\"\n",
    "else:\n",
    "  answer = \"Error\"\n",
    "  \n",
    "print(name + \" asks: \" + question)\n",
    "print(\"Magic 8 Ball's answer: \" + answer)"
   ]
  }
 ],
 "metadata": {
  "kernelspec": {
   "display_name": "Python 3",
   "language": "python",
   "name": "python3"
  },
  "language_info": {
   "codemirror_mode": {
    "name": "ipython",
    "version": 3
   },
   "file_extension": ".py",
   "mimetype": "text/x-python",
   "name": "python",
   "nbconvert_exporter": "python",
   "pygments_lexer": "ipython3",
   "version": "3.11.2"
  },
  "orig_nbformat": 4,
  "vscode": {
   "interpreter": {
    "hash": "ffe91df24089a53a2802270bb6c8b7fa37967dc8db9889f77818759ca664ef92"
   }
  }
 },
 "nbformat": 4,
 "nbformat_minor": 2
}
