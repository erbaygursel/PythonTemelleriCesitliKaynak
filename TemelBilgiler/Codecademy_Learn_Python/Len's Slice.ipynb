{
 "cells": [
  {
   "attachments": {},
   "cell_type": "markdown",
   "metadata": {},
   "source": [
    "###You work at Len’s Slice, a new pizza joint in the neighborhood. You are going to use your knowledge of Python lists to organize some of your sales data."
   ]
  },
  {
   "cell_type": "code",
   "execution_count": 1,
   "metadata": {},
   "outputs": [
    {
     "name": "stdout",
     "output_type": "stream",
     "text": [
      "We sell 7 different kinds of pizza!\n",
      "[[2, 'pepperoni'], [6, 'pineapple'], [1, 'cheese'], [3, 'sausage'], [2, 'olives'], [7, 'anchovies'], [2, 'mushrooms']]\n",
      "[[1, 'cheese'], [2, 'mushrooms'], [2, 'olives'], [2, 'pepperoni'], [3, 'sausage'], [6, 'pineapple'], [7, 'anchovies']]\n",
      "[[1, 'cheese'], [2, 'mushrooms'], [2, 'olives'], [2, 'pepperoni'], [2.5, 'peppers'], [3, 'sausage'], [6, 'pineapple']]\n",
      "[[1, 'cheese'], [2, 'mushrooms'], [2, 'olives']]\n"
     ]
    }
   ],
   "source": [
    "\n",
    "toppings = [\"pepperoni\",\n",
    "\"pineapple\",\n",
    "\"cheese\",\n",
    "\"sausage\",\n",
    "\"olives\",\n",
    "\"anchovies\",\n",
    "\"mushrooms\"]\n",
    "prices = [2, 6, 1, 3, 2, 7, 2]\n",
    "num_two_dollar_slices = prices.count(2)\n",
    "num_pizzas = len(toppings)\n",
    "\n",
    "#Çeşitlilik\n",
    "\n",
    "print(\"We sell\", str(num_pizzas), \"different kinds of pizza!\")\n",
    "\n",
    "# Fiyat ve Ürün listesi birlikte\n",
    "\n",
    "pizza_and_prices = [\n",
    "[2,\t\"pepperoni\"],\n",
    "[6,\t\"pineapple\"],\n",
    "[1,\t\"cheese\"],\n",
    "[3,\t\"sausage\"],\n",
    "[2,\t\"olives\"],\n",
    "[7,\t\"anchovies\"],\n",
    "[2,\t\"mushrooms\"]\n",
    "]\n",
    "print(pizza_and_prices)\n",
    "\n",
    "# Listeyi ucuzdan pahalıya göre sıralayalım.\n",
    "\n",
    "pizza_and_prices.sort()\n",
    "print(pizza_and_prices)\n",
    "\n",
    "cheapest_pizza = pizza_and_prices[0] #En Ucuz Pizza\n",
    "priciest_pizza = pizza_and_prices[-1] #En pahalı pizza\n",
    "\n",
    "pizza_and_prices.pop(-1) #En pahalı pizza satıldıktan sonra yapılan güncelleme\n",
    "\n",
    "pizza_and_prices.insert(4, [2.5, \"peppers\"])\n",
    "print(pizza_and_prices) # Yeni ürün eklemesi yaptık\n",
    "\n",
    "three_cheapest = pizza_and_prices[:3]\n",
    "print(three_cheapest) #En ucuz üç pizza"
   ]
  }
 ],
 "metadata": {
  "kernelspec": {
   "display_name": "Python 3",
   "language": "python",
   "name": "python3"
  },
  "language_info": {
   "codemirror_mode": {
    "name": "ipython",
    "version": 3
   },
   "file_extension": ".py",
   "mimetype": "text/x-python",
   "name": "python",
   "nbconvert_exporter": "python",
   "pygments_lexer": "ipython3",
   "version": "3.11.2"
  },
  "orig_nbformat": 4,
  "vscode": {
   "interpreter": {
    "hash": "ffe91df24089a53a2802270bb6c8b7fa37967dc8db9889f77818759ca664ef92"
   }
  }
 },
 "nbformat": 4,
 "nbformat_minor": 2
}
