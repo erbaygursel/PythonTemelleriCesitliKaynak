{
 "cells": [
  {
   "attachments": {},
   "cell_type": "markdown",
   "metadata": {},
   "source": [
    "###You work at Len’s Slice, a new pizza joint in the neighborhood. You are going to use your knowledge of Python lists to organize some of your sales data."
   ]
  },
  {
   "cell_type": "code",
   "execution_count": null,
   "metadata": {},
   "outputs": [],
   "source": [
    "\n",
    "toppings = [\"pepperoni\",\n",
    "\"pineapple\",\n",
    "\"cheese\",\n",
    "\"sausage\",\n",
    "\"olives\",\n",
    "\"anchovies\",\n",
    "\"mushrooms\"]\n",
    "prices = [2, 6, 1, 3, 2, 7, 2]\n",
    "num_two_dollar_slices = prices.count(2)\n",
    "num_pizzas = len(toppings)\n",
    "\n",
    "#Çeşitlilik\n",
    "\n",
    "print(\"We sell\", str(num_pizzas), \"different kinds of pizza!\")\n",
    "\n",
    "# Fiyat ve Ürün listesi birlikte\n",
    "\n",
    "pizza_and_prices = [\n",
    "[2,\t\"pepperoni\"],\n",
    "[6,\t\"pineapple\"],\n",
    "[1,\t\"cheese\"],\n",
    "[3,\t\"sausage\"],\n",
    "[2,\t\"olives\"],\n",
    "[7,\t\"anchovies\"],\n",
    "[2,\t\"mushrooms\"]\n",
    "]\n",
    "print(pizza_and_prices)\n",
    "\n",
    "# Listeyi ucuzdan pahalıya göre sıralayalım.\n",
    "\n",
    "pizza_and_prices.sort()\n",
    "print(pizza_and_prices)\n",
    "\n",
    "cheapest_pizza = pizza_and_prices[0] #En Ucuz Pizza\n",
    "priciest_pizza = pizza_and_prices[-1] #En pahalı pizza\n",
    "\n",
    "pizza_and_prices.pop(-1) #En pahalı pizza satıldıktan sonra yapılan güncelleme\n",
    "\n",
    "pizza_and_prices.insert(4, [2.5, \"peppers\"])\n",
    "print(pizza_and_prices) # Yeni ürün eklemesi yaptık\n",
    "\n",
    "three_cheapest = pizza_and_prices[:3]\n",
    "print(three_cheapest) #En ucuz üç pizza"
   ]
  }
 ],
 "metadata": {
  "kernelspec": {
   "display_name": "Python 3",
   "language": "python",
   "name": "python3"
  },
  "language_info": {
   "name": "python",
   "version": "3.11.1"
  },
  "orig_nbformat": 4,
  "vscode": {
   "interpreter": {
    "hash": "ffe91df24089a53a2802270bb6c8b7fa37967dc8db9889f77818759ca664ef92"
   }
  }
 },
 "nbformat": 4,
 "nbformat_minor": 2
}
