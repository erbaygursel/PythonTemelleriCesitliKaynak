{
 "cells": [
  {
   "cell_type": "code",
   "execution_count": 3,
   "metadata": {},
   "outputs": [
    {
     "name": "stdout",
     "output_type": "stream",
     "text": [
      "<class 'list'>\n",
      "<class 'tuple'>\n",
      "3\n",
      "3\n",
      "3\n",
      "3\n",
      "('demet', 'emel', 'ayşe', 'damla', 'ayşe', 'ayşe')\n",
      "2\n",
      "1\n",
      "['ahmet', 'veli']\n",
      "('damla', 'ayşe', 'ayşe')\n"
     ]
    }
   ],
   "source": [
    "list = [1, 2, 3]\n",
    "tuple = (1, 'iki', 3)\n",
    "\n",
    "print(type(list))\n",
    "print(type(tuple))\n",
    "\n",
    "print(list[2])\n",
    "print(tuple[2])\n",
    "\n",
    "print(len(tuple))\n",
    "print(len(list))\n",
    "\n",
    "list = ['ali','veli']\n",
    "tuple = ('damla','ayşe','ayşe')\n",
    "names = ('demet','emel','ayşe') + tuple\n",
    "\n",
    "print(names)\n",
    "\n",
    "list[0] = 'ahmet'\n",
    "#tuple[0] = 'deniz' Bu calışmaz çünkü tuple'da atama yapıldıktan sonra herhangi bir elemanı değiştiremiyoruz.\n",
    "\n",
    "print(tuple.count('ayşe'))\n",
    "print(tuple.index('ayşe'))\n",
    "\n",
    "print(list)\n",
    "print(tuple)"
   ]
  },
  {
   "cell_type": "code",
   "execution_count": 1,
   "metadata": {},
   "outputs": [
    {
     "name": "stdout",
     "output_type": "stream",
     "text": [
      "34\n",
      "41\n",
      "34\n",
      "{'kocaeli': 'new value', 'istanbul': 34, 'ankara': 6}\n",
      "user\n"
     ]
    }
   ],
   "source": [
    "\n",
    "\n",
    "sehirler = ['kocaeli','istanbul']\n",
    "plakalar = [41, 34]\n",
    "\n",
    "print(plakalar[sehirler.index('istanbul')])\n",
    "\n",
    "\n",
    "plakalar = { 'kocaeli' : 41, 'istanbul': 34 } #SÜSLÜ PARANTEZ KULLANIYORUZ, \"KEY\":VALUE eşleşmesi yaptık.\n",
    "\n",
    "print(plakalar['kocaeli'])\n",
    "print(plakalar['istanbul'])\n",
    "\n",
    "plakalar['ankara'] = 6\n",
    "plakalar['kocaeli'] = 'new value'\n",
    "\n",
    "print(plakalar)\n",
    "\n",
    "users = {\n",
    "    'erbaygursel': {\n",
    "        'age': 26,        \n",
    "        'roles': ['user'],\n",
    "        'email': 'erbay@gmail.com',\n",
    "        'address': 'kırko',\n",
    "        'phone': '1231321'\n",
    "    },\n",
    "    'kemal': {\n",
    "        'age': 21,\n",
    "        'roles': ['admin','user'],\n",
    "        'email': 'kemal@gmail.com',\n",
    "        'address': 'selanik',\n",
    "        'phone': '12831283'\n",
    "    }\n",
    "}\n",
    "\n",
    "print(users['kemal']['roles'][1])\n",
    "\n",
    "\n"
   ]
  },
  {
   "cell_type": "code",
   "execution_count": 5,
   "metadata": {},
   "outputs": [
    {
     "name": "stdout",
     "output_type": "stream",
     "text": [
      "**************************************************\n",
      "{'ad': 'Erbay', 'soyad': 'sdasda', 'telefon': '686786'}\n",
      "Aradığınız 1 nolu öğrencinin adı: Erbay soyadı: sdasda ve telefonu ise 686786\n"
     ]
    }
   ],
   "source": [
    "'''\n",
    "    ogrenciler = {\n",
    "        '120': {\n",
    "            'ad': 'Ali',\n",
    "            'soyad': 'Yılmaz',\n",
    "            'telefon': '532 000 00 01'\n",
    "        },\n",
    "        '125': {\n",
    "            'ad': 'Can',\n",
    "            'soyad': 'Korkmaz',\n",
    "            'telefon': '532 000 00 02'\n",
    "        },\n",
    "        '128': {\n",
    "            'ad': 'Volkan',\n",
    "            'soyad': 'Yükselen',\n",
    "            'telefon': '532 000 00 03'\n",
    "        },\n",
    "    }\n",
    "\n",
    "    1- Bilgileri verilen öğrencileri kullanıcıdan aldığınız bilgilerle\n",
    "       dictionary içinde saklayınız.\n",
    "\n",
    "    2- Öğrenci numarasını kullanıcıdan alıp ilgili öğrenci bilgisini gösterin.\n",
    "'''\n",
    "\n",
    "ogrenciler = {}\n",
    "\n",
    "number = input(\"öğrenci no: \")\n",
    "name = input(\"öğrenci adı: \")\n",
    "surname = input(\"öğrenci soyad: \")\n",
    "phone = input(\"öğrenci telefon: \")\n",
    "\n",
    "# ogrenciler[number] = {\n",
    "#     'ad': name,\n",
    "#     'soyad': surname,\n",
    "#     'telefon': phone\n",
    "# }\n",
    "\n",
    "ogrenciler.update({\n",
    "    number: {\n",
    "        'ad': name,\n",
    "        'soyad': surname,\n",
    "        'telefon':phone \n",
    "    }\n",
    "})\n",
    "\n",
    "number = input(\"öğrenci no: \")\n",
    "name = input(\"öğrenci adı: \")\n",
    "surname = input(\"öğrenci soyad: \")\n",
    "phone = input(\"öğrenci telefon: \")\n",
    "\n",
    "ogrenciler.update({\n",
    "    number: {\n",
    "        'ad': name,\n",
    "        'soyad': surname,\n",
    "        'telefon':phone \n",
    "    }\n",
    "})\n",
    "\n",
    "number = input(\"öğrenci no: \")\n",
    "name = input(\"öğrenci adı: \")\n",
    "surname = input(\"öğrenci soyad: \")\n",
    "phone = input(\"öğrenci telefon: \")\n",
    "\n",
    "ogrenciler.update({\n",
    "    number: {\n",
    "        'ad': name,\n",
    "        'soyad': surname,\n",
    "        'telefon':phone \n",
    "    }\n",
    "})\n",
    "\n",
    "print('*'*50)\n",
    "\n",
    "ogrNo = input('öğrenci no: ')\n",
    "ogrenci = ogrenciler[ogrNo]\n",
    "print(ogrenci)\n",
    "\n",
    "print(f\"Aradığınız {ogrNo} nolu öğrencinin adı: {ogrenci['ad']} soyadı: {ogrenci['soyad']} ve telefonu ise {ogrenci['telefon']}\")"
   ]
  },
  {
   "cell_type": "code",
   "execution_count": 7,
   "metadata": {},
   "outputs": [
    {
     "name": "stdout",
     "output_type": "stream",
     "text": [
      "apple\n",
      "orange\n",
      "banana\n",
      "{'banana', 'orange', 'grape'}\n"
     ]
    }
   ],
   "source": [
    "#SETLER\n",
    "\n",
    "fruits = { 'orange', 'apple', 'banana'}\n",
    "\n",
    "# print(fruits[0]) indekslenemez\n",
    "\n",
    "for x in fruits:\n",
    "    print(x)\n",
    "\n",
    "fruits.add('cherry')\n",
    "fruits.update(['mango','grape','apple'])\n",
    "\n",
    "fruits.remove('mango')\n",
    "fruits.discard('apple')\n",
    "fruits.pop()\n",
    "\n",
    "#fruits.clear()\n",
    "\n",
    "print(fruits)\n",
    "\n",
    "# myList = [1,2,5,4,4,2,1]\n",
    "# print(myList)\n",
    "# print(set(myList))"
   ]
  },
  {
   "cell_type": "code",
   "execution_count": 8,
   "metadata": {},
   "outputs": [
    {
     "name": "stdout",
     "output_type": "stream",
     "text": [
      "['grape', 'banana'] ['grape', 'banana']\n"
     ]
    }
   ],
   "source": [
    "#Veri tipi & Değerlendirme\n",
    "\n",
    "# value types => string, number\n",
    "x = 5\n",
    "y = 25\n",
    "\n",
    "x = y\n",
    "\n",
    "y = 10\n",
    "\n",
    "# print(x,y) (x,y)=(25,10) gelir cevap.\n",
    "\n",
    "# reference types => list\n",
    "a = [\"apple\",\"banana\"]\n",
    "b = [\"apple\",\"banana\"]\n",
    "\n",
    "a = b\n",
    "\n",
    "b[0] = \"grape\"\n",
    "\n",
    "print(a, b)\n",
    "#Value type kısmında ürünün kendisi ile Reference type ise adresle ilişkili olduğu için b[0] değişikliği a listesini de etkiler.\n"
   ]
  }
 ],
 "metadata": {
  "kernelspec": {
   "display_name": "Python 3",
   "language": "python",
   "name": "python3"
  },
  "language_info": {
   "codemirror_mode": {
    "name": "ipython",
    "version": 3
   },
   "file_extension": ".py",
   "mimetype": "text/x-python",
   "name": "python",
   "nbconvert_exporter": "python",
   "pygments_lexer": "ipython3",
   "version": "3.11.1"
  },
  "orig_nbformat": 4,
  "vscode": {
   "interpreter": {
    "hash": "ffe91df24089a53a2802270bb6c8b7fa37967dc8db9889f77818759ca664ef92"
   }
  }
 },
 "nbformat": 4,
 "nbformat_minor": 2
}
