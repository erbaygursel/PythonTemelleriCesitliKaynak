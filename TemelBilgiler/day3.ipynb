{
 "cells": [
  {
   "cell_type": "code",
   "execution_count": 3,
   "metadata": {},
   "outputs": [
    {
     "name": "stdout",
     "output_type": "stream",
     "text": [
      "<class 'list'>\n",
      "<class 'tuple'>\n",
      "3\n",
      "3\n",
      "3\n",
      "3\n",
      "('demet', 'emel', 'ayşe', 'damla', 'ayşe', 'ayşe')\n",
      "2\n",
      "1\n",
      "['ahmet', 'veli']\n",
      "('damla', 'ayşe', 'ayşe')\n"
     ]
    }
   ],
   "source": [
    "list = [1, 2, 3]\n",
    "tuple = (1, 'iki', 3)\n",
    "\n",
    "print(type(list))\n",
    "print(type(tuple))\n",
    "\n",
    "print(list[2])\n",
    "print(tuple[2])\n",
    "\n",
    "print(len(tuple))\n",
    "print(len(list))\n",
    "\n",
    "list = ['ali','veli']\n",
    "tuple = ('damla','ayşe','ayşe')\n",
    "names = ('demet','emel','ayşe') + tuple\n",
    "\n",
    "print(names)\n",
    "\n",
    "list[0] = 'ahmet'\n",
    "#tuple[0] = 'deniz' Bu calışmaz çünkü tuple'da atama yapıldıktan sonra herhangi bir elemanı değiştiremiyoruz.\n",
    "\n",
    "print(tuple.count('ayşe'))\n",
    "print(tuple.index('ayşe'))\n",
    "\n",
    "print(list)\n",
    "print(tuple)"
   ]
  },
  {
   "cell_type": "code",
   "execution_count": 19,
   "metadata": {},
   "outputs": [
    {
     "name": "stdout",
     "output_type": "stream",
     "text": [
      "34\n",
      "41\n",
      "34\n",
      "{'kocaeli': 'new value', 'istanbul': 34, 'ankara': 6}\n",
      "selanik\n"
     ]
    }
   ],
   "source": [
    "\n",
    "\n",
    "sehirler = ['kocaeli','istanbul']\n",
    "plakalar = [41, 34]\n",
    "\n",
    "print(plakalar[sehirler.index('istanbul')])\n",
    "\n",
    "\n",
    "plakalar = { 'kocaeli' : 41, 'istanbul': 34 } #SÜSLÜ PARANTEZ KULLANIYORUZ, \"KEY\":VALUE eşleşmesi yaptık.\n",
    "\n",
    "print(plakalar['kocaeli'])\n",
    "print(plakalar['istanbul'])\n",
    "\n",
    "plakalar['ankara'] = 6\n",
    "plakalar['kocaeli'] = 'new value'\n",
    "\n",
    "print(plakalar)\n",
    "\n",
    "users = {\n",
    "    'erbaygursel': {\n",
    "        'age': 26,        \n",
    "        'roles': ['user'],\n",
    "        'email': 'erbay@gmail.com',\n",
    "        'address': 'kırko',\n",
    "        'phone': '1231321'\n",
    "    },\n",
    "    'kemal': {\n",
    "        'age': 21,\n",
    "        'roles': ['admin','user'],\n",
    "        'email': 'kemal@gmail.com',\n",
    "        'address': 'selanik',\n",
    "        'phone': '12831283'\n",
    "    }\n",
    "}\n",
    "\n",
    "print(users['kemal']['address'])\n",
    "\n",
    "\n"
   ]
  }
 ],
 "metadata": {
  "kernelspec": {
   "display_name": "Python 3",
   "language": "python",
   "name": "python3"
  },
  "language_info": {
   "codemirror_mode": {
    "name": "ipython",
    "version": 3
   },
   "file_extension": ".py",
   "mimetype": "text/x-python",
   "name": "python",
   "nbconvert_exporter": "python",
   "pygments_lexer": "ipython3",
   "version": "3.11.1"
  },
  "orig_nbformat": 4,
  "vscode": {
   "interpreter": {
    "hash": "ffe91df24089a53a2802270bb6c8b7fa37967dc8db9889f77818759ca664ef92"
   }
  }
 },
 "nbformat": 4,
 "nbformat_minor": 2
}
