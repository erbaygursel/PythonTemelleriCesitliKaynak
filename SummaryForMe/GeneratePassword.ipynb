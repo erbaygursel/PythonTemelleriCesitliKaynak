{
 "cells": [
  {
   "cell_type": "code",
   "execution_count": 18,
   "metadata": {},
   "outputs": [
    {
     "name": "stdout",
     "output_type": "stream",
     "text": [
      "------------------------------\n",
      " Şifre Oluşturma\n",
      ")------------------------------\n",
      "Şifren hazırlanıyor...\n",
      "Şifren hazır: ehuUusZRX1ZUlH\n"
     ]
    }
   ],
   "source": [
    "import random\n",
    "import string\n",
    "import time\n",
    "\n",
    "def sifre_olustur(uzunluk, seviye):\n",
    "    çıktı=[]\n",
    "    karakterler = string.ascii_letters\n",
    "\n",
    "    if seviye == 1:\n",
    "        karakterler += string.digits \n",
    "    elif seviye == 2:\n",
    "        karakterler = string.digits + string.punctuation\n",
    "    else:\n",
    "        print(\"Geçerli bir seviye girin..\")\n",
    "        return None\n",
    "    for x in range(uzunluk):\n",
    "        çıktı.append(random.choice(karakterler))\n",
    "    return \"\".join(çıktı)\n",
    "\n",
    "print((\"-\" * 30) + \"\\n Şifre Oluşturma\\n)\" + (\"-\" * 30))\n",
    "\n",
    "sifre_uzunluk = int(input(\"Uzunluk ne kadar olsun: \"))\n",
    "sifre_seviye = int(input(\"Zorluk seviyesi ne olsun? (1 ve ya 2) \"))\n",
    "\n",
    "sifre = sifre_olustur(sifre_uzunluk, sifre_seviye)\n",
    "print(\"Şifren hazırlanıyor...\")\n",
    "time.sleep(4)\n",
    "print(\"Şifren hazır: {}\".format(sifre))"
   ]
  },
  {
   "cell_type": "code",
   "execution_count": null,
   "metadata": {},
   "outputs": [],
   "source": []
  },
  {
   "cell_type": "code",
   "execution_count": null,
   "metadata": {},
   "outputs": [],
   "source": []
  }
 ],
 "metadata": {
  "kernelspec": {
   "display_name": "Python 3",
   "language": "python",
   "name": "python3"
  },
  "language_info": {
   "codemirror_mode": {
    "name": "ipython",
    "version": 3
   },
   "file_extension": ".py",
   "mimetype": "text/x-python",
   "name": "python",
   "nbconvert_exporter": "python",
   "pygments_lexer": "ipython3",
   "version": "3.9.6"
  },
  "orig_nbformat": 4
 },
 "nbformat": 4,
 "nbformat_minor": 2
}
