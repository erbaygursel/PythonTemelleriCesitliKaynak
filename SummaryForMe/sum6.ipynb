{
 "cells": [
  {
   "cell_type": "code",
   "execution_count": 25,
   "metadata": {},
   "outputs": [],
   "source": [
    "# İleri seviye Veri Yapıları ve Objeler"
   ]
  },
  {
   "cell_type": "code",
   "execution_count": null,
   "metadata": {},
   "outputs": [],
   "source": [
    "#10'LUK tabanda gösterimlerin 2'lik ve ya 16'lık tabanda çalışmak."
   ]
  },
  {
   "cell_type": "code",
   "execution_count": 2,
   "metadata": {},
   "outputs": [
    {
     "data": {
      "text/plain": [
       "'0b100'"
      ]
     },
     "execution_count": 2,
     "metadata": {},
     "output_type": "execute_result"
    }
   ],
   "source": [
    "bin(4) #0b binary demek"
   ]
  },
  {
   "cell_type": "code",
   "execution_count": 3,
   "metadata": {},
   "outputs": [
    {
     "data": {
      "text/plain": [
       "'0b10011'"
      ]
     },
     "execution_count": 3,
     "metadata": {},
     "output_type": "execute_result"
    }
   ],
   "source": [
    "bin(19)"
   ]
  },
  {
   "cell_type": "code",
   "execution_count": 4,
   "metadata": {},
   "outputs": [
    {
     "data": {
      "text/plain": [
       "'0b110111101'"
      ]
     },
     "execution_count": 4,
     "metadata": {},
     "output_type": "execute_result"
    }
   ],
   "source": [
    "bin(445)"
   ]
  },
  {
   "cell_type": "code",
   "execution_count": 7,
   "metadata": {},
   "outputs": [
    {
     "data": {
      "text/plain": [
       "'0x14'"
      ]
     },
     "execution_count": 7,
     "metadata": {},
     "output_type": "execute_result"
    }
   ],
   "source": [
    "#Taban değiştirmek için hex() fonksiyonu kullanıcaz.\n",
    "\n",
    "hex(20) #0x ->> 16lık taban.... 4 * 16^0 + 1 * 16^1"
   ]
  },
  {
   "cell_type": "code",
   "execution_count": 8,
   "metadata": {},
   "outputs": [
    {
     "data": {
      "text/plain": [
       "'0x20'"
      ]
     },
     "execution_count": 8,
     "metadata": {},
     "output_type": "execute_result"
    }
   ],
   "source": [
    "hex(32)"
   ]
  },
  {
   "cell_type": "code",
   "execution_count": 10,
   "metadata": {},
   "outputs": [
    {
     "name": "stdout",
     "output_type": "stream",
     "text": [
      "5\n",
      "1.5\n"
     ]
    }
   ],
   "source": [
    "# abs() ->> mutlak değer\n",
    "print(abs(-5))\n",
    "print(abs(-1.5))"
   ]
  },
  {
   "cell_type": "code",
   "execution_count": 12,
   "metadata": {},
   "outputs": [
    {
     "name": "stdout",
     "output_type": "stream",
     "text": [
      "4\n",
      "-3\n",
      "5\n"
     ]
    }
   ],
   "source": [
    "#round()->> yuvarlama fonk.\n",
    "print(round(4.5))\n",
    "print(round(-2.9))\n",
    "print(round(4.8))"
   ]
  },
  {
   "cell_type": "code",
   "execution_count": 15,
   "metadata": {},
   "outputs": [
    {
     "data": {
      "text/plain": [
       "3.333"
      ]
     },
     "execution_count": 15,
     "metadata": {},
     "output_type": "execute_result"
    }
   ],
   "source": [
    "round(3.3334,3)"
   ]
  },
  {
   "cell_type": "code",
   "execution_count": 16,
   "metadata": {},
   "outputs": [
    {
     "data": {
      "text/plain": [
       "3.334"
      ]
     },
     "execution_count": 16,
     "metadata": {},
     "output_type": "execute_result"
    }
   ],
   "source": [
    "round(3.3338,3)"
   ]
  },
  {
   "cell_type": "code",
   "execution_count": 17,
   "metadata": {},
   "outputs": [
    {
     "data": {
      "text/plain": [
       "12"
      ]
     },
     "execution_count": 17,
     "metadata": {},
     "output_type": "execute_result"
    }
   ],
   "source": [
    "max(4,12) # En büyük değer."
   ]
  },
  {
   "cell_type": "code",
   "execution_count": 18,
   "metadata": {},
   "outputs": [
    {
     "data": {
      "text/plain": [
       "-454"
      ]
     },
     "execution_count": 18,
     "metadata": {},
     "output_type": "execute_result"
    }
   ],
   "source": [
    "min(1,2,3,4,-4,-454)  # En küçük değer."
   ]
  },
  {
   "cell_type": "code",
   "execution_count": 21,
   "metadata": {},
   "outputs": [
    {
     "data": {
      "text/plain": [
       "5"
      ]
     },
     "execution_count": 21,
     "metadata": {},
     "output_type": "execute_result"
    }
   ],
   "source": [
    "max([1,2,3,4,5])"
   ]
  },
  {
   "cell_type": "code",
   "execution_count": 22,
   "metadata": {},
   "outputs": [
    {
     "data": {
      "text/plain": [
       "28"
      ]
     },
     "execution_count": 22,
     "metadata": {},
     "output_type": "execute_result"
    }
   ],
   "source": [
    "sum([1,2,3,4,5,6,7]) # Ortalama alır, liste ve ya demetle çalışır."
   ]
  },
  {
   "cell_type": "code",
   "execution_count": 24,
   "metadata": {},
   "outputs": [
    {
     "data": {
      "text/plain": [
       "144"
      ]
     },
     "execution_count": 24,
     "metadata": {},
     "output_type": "execute_result"
    }
   ],
   "source": [
    "pow(12,2) #Kuvvet alma fonksiyonu..."
   ]
  },
  {
   "cell_type": "code",
   "execution_count": 26,
   "metadata": {},
   "outputs": [],
   "source": [
    "# String metodları...\n"
   ]
  },
  {
   "cell_type": "code",
   "execution_count": 27,
   "metadata": {},
   "outputs": [
    {
     "data": {
      "text/plain": [
       "'ERBAY'"
      ]
     },
     "execution_count": 27,
     "metadata": {},
     "output_type": "execute_result"
    }
   ],
   "source": [
    "\"erbay\".upper()"
   ]
  },
  {
   "cell_type": "code",
   "execution_count": 30,
   "metadata": {},
   "outputs": [
    {
     "data": {
      "text/plain": [
       "'erbay'"
      ]
     },
     "execution_count": 30,
     "metadata": {},
     "output_type": "execute_result"
    }
   ],
   "source": [
    "\"ErBAy\".lower()"
   ]
  },
  {
   "cell_type": "code",
   "execution_count": 32,
   "metadata": {},
   "outputs": [
    {
     "data": {
      "text/plain": [
       "'Herkes ono bobo bocı gordoş'"
      ]
     },
     "execution_count": 32,
     "metadata": {},
     "output_type": "execute_result"
    }
   ],
   "source": [
    "\"Herkes ana baba bacı gardaş\".replace(\"a\",\"o\")\n",
    "#replace(x,y) ile x ve ye değerlerini değiştiririz."
   ]
  },
  {
   "cell_type": "code",
   "execution_count": 33,
   "metadata": {},
   "outputs": [
    {
     "data": {
      "text/plain": [
       "'Kunzun'"
      ]
     },
     "execution_count": 33,
     "metadata": {},
     "output_type": "execute_result"
    }
   ],
   "source": [
    "\"Kunduz\".replace(\"duz\",\"zun\")"
   ]
  },
  {
   "cell_type": "code",
   "execution_count": 34,
   "metadata": {},
   "outputs": [
    {
     "data": {
      "text/plain": [
       "'Programlama-Dili-Önemlidir'"
      ]
     },
     "execution_count": 34,
     "metadata": {},
     "output_type": "execute_result"
    }
   ],
   "source": [
    "\"Programlama Dili Önemlidir\".replace(\" \",\"-\")"
   ]
  },
  {
   "cell_type": "code",
   "execution_count": 35,
   "metadata": {},
   "outputs": [
    {
     "data": {
      "text/plain": [
       "False"
      ]
     },
     "execution_count": 35,
     "metadata": {},
     "output_type": "execute_result"
    }
   ],
   "source": [
    "\"Python\".startswith(\"p\")"
   ]
  },
  {
   "cell_type": "code",
   "execution_count": 36,
   "metadata": {},
   "outputs": [
    {
     "data": {
      "text/plain": [
       "True"
      ]
     },
     "execution_count": 36,
     "metadata": {},
     "output_type": "execute_result"
    }
   ],
   "source": [
    "\"Python\".startswith(\"P\")"
   ]
  },
  {
   "cell_type": "code",
   "execution_count": 41,
   "metadata": {},
   "outputs": [
    {
     "name": "stdout",
     "output_type": "stream",
     "text": [
      "['Programlama', 'Dili', 'Önemlidir']\n"
     ]
    }
   ],
   "source": [
    "liste1 = \"Programlama Dili Önemlidir\".split(\" \")\n",
    "print(liste1)"
   ]
  },
  {
   "cell_type": "code",
   "execution_count": 43,
   "metadata": {},
   "outputs": [
    {
     "data": {
      "text/plain": [
       "3"
      ]
     },
     "execution_count": 43,
     "metadata": {},
     "output_type": "execute_result"
    }
   ],
   "source": [
    "\"asdalvalsdwelw\".count(\"a\") # Sayma yapar."
   ]
  },
  {
   "cell_type": "code",
   "execution_count": 44,
   "metadata": {},
   "outputs": [],
   "source": [
    "# KÜME Metotları...\n",
    "x = set() # 1 elemandan sadece 1 tane tutar..Ve sıralar...Küme elemanlarına liste gibi ulaşamayız."
   ]
  },
  {
   "cell_type": "code",
   "execution_count": 45,
   "metadata": {},
   "outputs": [
    {
     "data": {
      "text/plain": [
       "set"
      ]
     },
     "execution_count": 45,
     "metadata": {},
     "output_type": "execute_result"
    }
   ],
   "source": [
    "type(x)"
   ]
  },
  {
   "cell_type": "code",
   "execution_count": 49,
   "metadata": {},
   "outputs": [
    {
     "name": "stdout",
     "output_type": "stream",
     "text": [
      "{1, 2, 3, 4, 5, 67, 8, 9}\n"
     ]
    }
   ],
   "source": [
    "liste2 = [1,4,4,4,2,3,5,67,8,9,1]\n",
    "a = set(liste2)\n",
    "print(a)"
   ]
  },
  {
   "cell_type": "code",
   "execution_count": 51,
   "metadata": {},
   "outputs": [
    {
     "name": "stdout",
     "output_type": "stream",
     "text": [
      "[1, 2, 3, 4, 5, 67, 8, 9]\n"
     ]
    }
   ],
   "source": [
    "a = list(a) \n",
    "print(a)\n",
    "# Kümeleri listeye çevirerek içinden index çekebiliriz, diğer türlü olmaz."
   ]
  },
  {
   "cell_type": "code",
   "execution_count": 52,
   "metadata": {},
   "outputs": [
    {
     "data": {
      "text/plain": [
       "2"
      ]
     },
     "execution_count": 52,
     "metadata": {},
     "output_type": "execute_result"
    }
   ],
   "source": [
    "a[1]"
   ]
  },
  {
   "cell_type": "code",
   "execution_count": 54,
   "metadata": {},
   "outputs": [
    {
     "name": "stdout",
     "output_type": "stream",
     "text": [
      "{1, 2, 3, 4, 5, 67, 8, 9}\n"
     ]
    }
   ],
   "source": [
    "a = set(a)\n",
    "print(a)"
   ]
  },
  {
   "cell_type": "code",
   "execution_count": 57,
   "metadata": {},
   "outputs": [
    {
     "data": {
      "text/plain": [
       "{1, 2, 3, 4, 5, 8, 9, 67, 122}"
      ]
     },
     "execution_count": 57,
     "metadata": {},
     "output_type": "execute_result"
    }
   ],
   "source": [
    "# a.discard() ->> Çıkarma\n",
    "a.add(122) # Ekleme\n",
    "a"
   ]
  },
  {
   "cell_type": "code",
   "execution_count": 58,
   "metadata": {},
   "outputs": [],
   "source": [
    "küme1 = {1,2,3,4}\n",
    "küme2 = {1,5,3,12}"
   ]
  },
  {
   "cell_type": "code",
   "execution_count": 59,
   "metadata": {},
   "outputs": [
    {
     "data": {
      "text/plain": [
       "{2, 4}"
      ]
     },
     "execution_count": 59,
     "metadata": {},
     "output_type": "execute_result"
    }
   ],
   "source": [
    "küme1.difference(küme2)"
   ]
  },
  {
   "cell_type": "code",
   "execution_count": 60,
   "metadata": {},
   "outputs": [],
   "source": [
    "küme1.difference_update(küme2)# Farkı ile yeni küme güncelleyip oluşturuyor."
   ]
  },
  {
   "cell_type": "code",
   "execution_count": 61,
   "metadata": {},
   "outputs": [
    {
     "data": {
      "text/plain": [
       "{2, 4}"
      ]
     },
     "execution_count": 61,
     "metadata": {},
     "output_type": "execute_result"
    }
   ],
   "source": [
    "küme1"
   ]
  },
  {
   "cell_type": "code",
   "execution_count": 62,
   "metadata": {},
   "outputs": [],
   "source": [
    "küme3 = {1,2,3,4}\n",
    "küme4 = {1,5,3,12}"
   ]
  },
  {
   "cell_type": "code",
   "execution_count": 66,
   "metadata": {},
   "outputs": [
    {
     "data": {
      "text/plain": [
       "{1, 3}"
      ]
     },
     "execution_count": 66,
     "metadata": {},
     "output_type": "execute_result"
    }
   ],
   "source": [
    "küme3.intersection(küme4)"
   ]
  },
  {
   "cell_type": "code",
   "execution_count": 67,
   "metadata": {},
   "outputs": [
    {
     "data": {
      "text/plain": [
       "False"
      ]
     },
     "execution_count": 67,
     "metadata": {},
     "output_type": "execute_result"
    }
   ],
   "source": [
    "küme3.issubset(küme4) # Alt küme"
   ]
  },
  {
   "cell_type": "code",
   "execution_count": 68,
   "metadata": {},
   "outputs": [
    {
     "data": {
      "text/plain": [
       "{1, 2, 3, 4, 5, 12}"
      ]
     },
     "execution_count": 68,
     "metadata": {},
     "output_type": "execute_result"
    }
   ],
   "source": [
    "küme3.union(küme4) # Eğer union_update olsaydı küme3 yeni elemanlar ile güncellenecekti."
   ]
  },
  {
   "cell_type": "code",
   "execution_count": 69,
   "metadata": {},
   "outputs": [],
   "source": [
    "# LİSTE Ve Metodları"
   ]
  },
  {
   "cell_type": "code",
   "execution_count": null,
   "metadata": {},
   "outputs": [],
   "source": [
    "liste.append() -> Ekleme\n",
    "\n",
    "liste.extend(liste2) ->> Başka liste elemanlarını ekler\n",
    "\n",
    "liste.insert(2, \"x\") -> 2.indexe \"x\" elemanı ekle\n",
    "\n",
    "liste.pop() -> sondan eleman çıkarır\n",
    "\n",
    "liste.pop(2) -> 2.indexteki elemanı atar\n",
    "\n",
    "liste.remove(\"elemanın ismi\") -> elemanın ismini söyleyerek çıkarır.\n",
    "\n",
    "liste.index(2) -> \"2\" elemanın nerede olduğunu söyler.\n",
    "\n",
    "liste.index(4,3) -> 3.indexten itibaren 4 değerini ara.\n",
    "\n",
    "liste.sort() -> Sıralama yapar.\n",
    "liste.sort(reverse  = True) ->  Ters Sıralama yapar."
   ]
  },
  {
   "cell_type": "code",
   "execution_count": 83,
   "metadata": {},
   "outputs": [
    {
     "name": "stdout",
     "output_type": "stream",
     "text": [
      "Dostoyevski kelimesi 1 defa geçiyor...\n",
      "---------------\n",
      "Rusya’da kelimesi 1 defa geçiyor...\n",
      "---------------\n",
      "yaşanan kelimesi 1 defa geçiyor...\n",
      "---------------\n",
      "siyasi kelimesi 1 defa geçiyor...\n",
      "---------------\n",
      "ve kelimesi 15 defa geçiyor...\n",
      "---------------\n",
      "ekonomik kelimesi 1 defa geçiyor...\n",
      "---------------\n",
      "olaylar kelimesi 1 defa geçiyor...\n",
      "---------------\n",
      "sonrasında kelimesi 1 defa geçiyor...\n",
      "---------------\n",
      "gözlemlediği kelimesi 1 defa geçiyor...\n",
      "---------------\n",
      "hayatlardan kelimesi 1 defa geçiyor...\n",
      "---------------\n",
      "esinlenerek kelimesi 1 defa geçiyor...\n",
      "---------------\n",
      "1866 kelimesi 1 defa geçiyor...\n",
      "---------------\n",
      "yılında kelimesi 1 defa geçiyor...\n",
      "---------------\n",
      "yazdığı kelimesi 1 defa geçiyor...\n",
      "---------------\n",
      "eser kelimesi 2 defa geçiyor...\n",
      "---------------\n",
      "ilk kelimesi 1 defa geçiyor...\n",
      "---------------\n",
      "olarak kelimesi 1 defa geçiyor...\n",
      "---------------\n",
      "Rus kelimesi 1 defa geçiyor...\n",
      "---------------\n",
      "Habercisi kelimesi 1 defa geçiyor...\n",
      "---------------\n",
      "isimli kelimesi 1 defa geçiyor...\n",
      "---------------\n",
      "edebiyat kelimesi 1 defa geçiyor...\n",
      "---------------\n",
      "dergisinde kelimesi 1 defa geçiyor...\n",
      "---------------\n",
      "yayınlanmıştır kelimesi 1 defa geçiyor...\n",
      "---------------\n",
      "Büyük kelimesi 1 defa geçiyor...\n",
      "---------------\n",
      "beğeni kelimesi 1 defa geçiyor...\n",
      "---------------\n",
      "toplayan kelimesi 1 defa geçiyor...\n",
      "---------------\n",
      "daha kelimesi 7 defa geçiyor...\n",
      "---------------\n",
      "sonra kelimesi 1 defa geçiyor...\n",
      "---------------\n",
      "kitap kelimesi 2 defa geçiyor...\n",
      "---------------\n",
      "haline kelimesi 1 defa geçiyor...\n",
      "---------------\n",
      "getirilmiş kelimesi 1 defa geçiyor...\n",
      "---------------\n",
      "o kelimesi 2 defa geçiyor...\n",
      "---------------\n",
      "günden kelimesi 1 defa geçiyor...\n",
      "---------------\n",
      "beri kelimesi 1 defa geçiyor...\n",
      "---------------\n",
      "birçok kelimesi 2 defa geçiyor...\n",
      "---------------\n",
      "sinema kelimesi 1 defa geçiyor...\n",
      "---------------\n",
      "filmine kelimesi 1 defa geçiyor...\n",
      "---------------\n",
      "konu kelimesi 1 defa geçiyor...\n",
      "---------------\n",
      "olmuştur kelimesi 1 defa geçiyor...\n",
      "---------------\n",
      "Suç kelimesi 1 defa geçiyor...\n",
      "---------------\n",
      "Ceza kelimesi 1 defa geçiyor...\n",
      "---------------\n",
      "Dostoyevski’nin kelimesi 1 defa geçiyor...\n",
      "---------------\n",
      "başyapıtı kelimesi 1 defa geçiyor...\n",
      "---------------\n",
      "sayılır kelimesi 1 defa geçiyor...\n",
      "---------------\n",
      "Kitabın kelimesi 1 defa geçiyor...\n",
      "---------------\n",
      "başkahramanı kelimesi 1 defa geçiyor...\n",
      "---------------\n",
      "olan kelimesi 4 defa geçiyor...\n",
      "---------------\n",
      "Raskolnikov kelimesi 5 defa geçiyor...\n",
      "---------------\n",
      "Rusya’nın kelimesi 1 defa geçiyor...\n",
      "---------------\n",
      "St kelimesi 2 defa geçiyor...\n",
      "---------------\n",
      "Petersburg kelimesi 2 defa geçiyor...\n",
      "---------------\n",
      "şehrinde kelimesi 2 defa geçiyor...\n",
      "---------------\n",
      "hukuk kelimesi 2 defa geçiyor...\n",
      "---------------\n",
      "fakültesinde kelimesi 1 defa geçiyor...\n",
      "---------------\n",
      "okuyan kelimesi 1 defa geçiyor...\n",
      "---------------\n",
      "başarılı kelimesi 1 defa geçiyor...\n",
      "---------------\n",
      "bir kelimesi 5 defa geçiyor...\n",
      "---------------\n",
      "öğrencidir kelimesi 1 defa geçiyor...\n",
      "---------------\n",
      "Fakir kelimesi 1 defa geçiyor...\n",
      "---------------\n",
      "olduğu kelimesi 1 defa geçiyor...\n",
      "---------------\n",
      "için kelimesi 2 defa geçiyor...\n",
      "---------------\n",
      "hayatını kelimesi 1 defa geçiyor...\n",
      "---------------\n",
      "öğretimini kelimesi 1 defa geçiyor...\n",
      "---------------\n",
      "devam kelimesi 1 defa geçiyor...\n",
      "---------------\n",
      "ettirmekte kelimesi 1 defa geçiyor...\n",
      "---------------\n",
      "oldukça kelimesi 1 defa geçiyor...\n",
      "---------------\n",
      "zorlanır kelimesi 1 defa geçiyor...\n",
      "---------------\n",
      "fakültesini kelimesi 1 defa geçiyor...\n",
      "---------------\n",
      "bırakmak kelimesi 1 defa geçiyor...\n",
      "---------------\n",
      "zorunda kelimesi 1 defa geçiyor...\n",
      "---------------\n",
      "kalır kelimesi 1 defa geçiyor...\n",
      "---------------\n",
      "Yaşadığı kelimesi 1 defa geçiyor...\n",
      "---------------\n",
      "hayat kelimesi 1 defa geçiyor...\n",
      "---------------\n",
      "iç kelimesi 3 defa geçiyor...\n",
      "---------------\n",
      "dünyasında kelimesi 1 defa geçiyor...\n",
      "---------------\n",
      "kalıcı kelimesi 1 defa geçiyor...\n",
      "---------------\n",
      "zararlar kelimesi 1 defa geçiyor...\n",
      "---------------\n",
      "vermeye kelimesi 1 defa geçiyor...\n",
      "---------------\n",
      "başlar kelimesi 2 defa geçiyor...\n",
      "---------------\n",
      "kendi kelimesi 1 defa geçiyor...\n",
      "---------------\n",
      "içinde kelimesi 1 defa geçiyor...\n",
      "---------------\n",
      "çelişkiye kelimesi 1 defa geçiyor...\n",
      "---------------\n",
      "düşmeye kelimesi 1 defa geçiyor...\n",
      "---------------\n",
      "Okumak kelimesi 1 defa geçiyor...\n",
      "---------------\n",
      "geldiği kelimesi 1 defa geçiyor...\n",
      "---------------\n",
      "kirasını kelimesi 1 defa geçiyor...\n",
      "---------------\n",
      "ödeyemez kelimesi 1 defa geçiyor...\n",
      "---------------\n",
      "Yakınlarda kelimesi 1 defa geçiyor...\n",
      "---------------\n",
      "bulunan kelimesi 1 defa geçiyor...\n",
      "---------------\n",
      "hiç kelimesi 1 defa geçiyor...\n",
      "---------------\n",
      "kimsenin kelimesi 1 defa geçiyor...\n",
      "---------------\n",
      "sevmediği kelimesi 1 defa geçiyor...\n",
      "---------------\n",
      "tefeci kelimesi 2 defa geçiyor...\n",
      "---------------\n",
      "kadına kelimesi 1 defa geçiyor...\n",
      "---------------\n",
      "giderek kelimesi 1 defa geçiyor...\n",
      "---------------\n",
      "saatini kelimesi 1 defa geçiyor...\n",
      "---------------\n",
      "satar kelimesi 1 defa geçiyor...\n",
      "---------------\n",
      "Karşılığında kelimesi 1 defa geçiyor...\n",
      "---------------\n",
      "aldığı kelimesi 1 defa geçiyor...\n",
      "---------------\n",
      "para kelimesi 1 defa geçiyor...\n",
      "---------------\n",
      "ile kelimesi 2 defa geçiyor...\n",
      "---------------\n",
      "de kelimesi 2 defa geçiyor...\n",
      "---------------\n",
      "meyhaneye kelimesi 1 defa geçiyor...\n",
      "---------------\n",
      "gider kelimesi 3 defa geçiyor...\n",
      "---------------\n",
      "Bir kelimesi 2 defa geçiyor...\n",
      "---------------\n",
      "taraftan kelimesi 2 defa geçiyor...\n",
      "---------------\n",
      "içerken kelimesi 1 defa geçiyor...\n",
      "---------------\n",
      "diğer kelimesi 1 defa geçiyor...\n",
      "---------------\n",
      "meyhanedeki kelimesi 1 defa geçiyor...\n",
      "---------------\n",
      "insanların kelimesi 1 defa geçiyor...\n",
      "---------------\n",
      "hayatları kelimesi 1 defa geçiyor...\n",
      "---------------\n",
      "içini kelimesi 1 defa geçiyor...\n",
      "---------------\n",
      "da kelimesi 5 defa geçiyor...\n",
      "---------------\n",
      "karartır kelimesi 1 defa geçiyor...\n",
      "---------------\n",
      "Fakirler kelimesi 1 defa geçiyor...\n",
      "---------------\n",
      "zenginler kelimesi 1 defa geçiyor...\n",
      "---------------\n",
      "arasında kelimesi 1 defa geçiyor...\n",
      "---------------\n",
      "acımasız kelimesi 1 defa geçiyor...\n",
      "---------------\n",
      "ayrıma kelimesi 1 defa geçiyor...\n",
      "---------------\n",
      "anlam kelimesi 1 defa geçiyor...\n",
      "---------------\n",
      "veremez kelimesi 1 defa geçiyor...\n",
      "---------------\n",
      "içindeki kelimesi 2 defa geçiyor...\n",
      "---------------\n",
      "çatışmalara kelimesi 1 defa geçiyor...\n",
      "---------------\n",
      "fazla kelimesi 2 defa geçiyor...\n",
      "---------------\n",
      "dayanamaz kelimesi 2 defa geçiyor...\n",
      "---------------\n",
      "şeytana kelimesi 1 defa geçiyor...\n",
      "---------------\n",
      "kulak kelimesi 1 defa geçiyor...\n",
      "---------------\n",
      "verek kelimesi 1 defa geçiyor...\n",
      "---------------\n",
      "eline kelimesi 1 defa geçiyor...\n",
      "---------------\n",
      "balta kelimesi 1 defa geçiyor...\n",
      "---------------\n",
      "alarak kelimesi 2 defa geçiyor...\n",
      "---------------\n",
      "kadının kelimesi 4 defa geçiyor...\n",
      "---------------\n",
      "evine kelimesi 1 defa geçiyor...\n",
      "---------------\n",
      "Baltayı kelimesi 1 defa geçiyor...\n",
      "---------------\n",
      "kafasına kelimesi 1 defa geçiyor...\n",
      "---------------\n",
      "indirerek kelimesi 1 defa geçiyor...\n",
      "---------------\n",
      "onu kelimesi 3 defa geçiyor...\n",
      "---------------\n",
      "orada kelimesi 1 defa geçiyor...\n",
      "---------------\n",
      "öldürür kelimesi 2 defa geçiyor...\n",
      "---------------\n",
      "Tam kelimesi 1 defa geçiyor...\n",
      "---------------\n",
      "bu kelimesi 2 defa geçiyor...\n",
      "---------------\n",
      "sırada kelimesi 1 defa geçiyor...\n",
      "---------------\n",
      "yaşlı kelimesi 1 defa geçiyor...\n",
      "---------------\n",
      "kız kelimesi 1 defa geçiyor...\n",
      "---------------\n",
      "kardeşi kelimesi 1 defa geçiyor...\n",
      "---------------\n",
      "gelir kelimesi 1 defa geçiyor...\n",
      "---------------\n",
      "anda kelimesi 1 defa geçiyor...\n",
      "---------------\n",
      "Tefeci kelimesi 1 defa geçiyor...\n",
      "---------------\n",
      "kötülüğünün kelimesi 1 defa geçiyor...\n",
      "---------------\n",
      "yanında kelimesi 1 defa geçiyor...\n",
      "---------------\n",
      "masumun kelimesi 1 defa geçiyor...\n",
      "---------------\n",
      "ölmesi kelimesi 1 defa geçiyor...\n",
      "---------------\n",
      "pek kelimesi 1 defa geçiyor...\n",
      "---------------\n",
      "önemli kelimesi 1 defa geçiyor...\n",
      "---------------\n",
      "değildir kelimesi 1 defa geçiyor...\n",
      "---------------\n",
      "Ne kelimesi 1 defa geçiyor...\n",
      "---------------\n",
      "yapacağını kelimesi 1 defa geçiyor...\n",
      "---------------\n",
      "bilmeden kelimesi 1 defa geçiyor...\n",
      "---------------\n",
      "birkaç kelimesi 1 defa geçiyor...\n",
      "---------------\n",
      "altını kelimesi 1 defa geçiyor...\n",
      "---------------\n",
      "oradan kelimesi 1 defa geçiyor...\n",
      "---------------\n",
      "uzaklaştı kelimesi 1 defa geçiyor...\n",
      "---------------\n",
      "İşlediği kelimesi 1 defa geçiyor...\n",
      "---------------\n",
      "cinayet kelimesi 1 defa geçiyor...\n",
      "---------------\n",
      "sonrası kelimesi 1 defa geçiyor...\n",
      "---------------\n",
      "Raskolnikov’un kelimesi 2 defa geçiyor...\n",
      "---------------\n",
      "durumu kelimesi 1 defa geçiyor...\n",
      "---------------\n",
      "kötüye kelimesi 3 defa geçiyor...\n",
      "---------------\n",
      "zamanlar kelimesi 1 defa geçiyor...\n",
      "---------------\n",
      "çelişkiler kelimesi 1 defa geçiyor...\n",
      "---------------\n",
      "yaşamasına kelimesi 1 defa geçiyor...\n",
      "---------------\n",
      "neden kelimesi 1 defa geçiyor...\n",
      "---------------\n",
      "şeytan kelimesi 1 defa geçiyor...\n",
      "---------------\n",
      "ortadan kelimesi 1 defa geçiyor...\n",
      "---------------\n",
      "kaybolmuş kelimesi 1 defa geçiyor...\n",
      "---------------\n",
      "fakat kelimesi 1 defa geçiyor...\n",
      "---------------\n",
      "ondan kelimesi 1 defa geçiyor...\n",
      "---------------\n",
      "kötü kelimesi 1 defa geçiyor...\n",
      "---------------\n",
      "vicdan kelimesi 1 defa geçiyor...\n",
      "---------------\n",
      "azabı kelimesi 1 defa geçiyor...\n",
      "---------------\n",
      "gelmiştir kelimesi 1 defa geçiyor...\n",
      "---------------\n",
      "Duyduğu kelimesi 1 defa geçiyor...\n",
      "---------------\n",
      "pişmanlıklar kelimesi 1 defa geçiyor...\n",
      "---------------\n",
      "çekişmeler kelimesi 1 defa geçiyor...\n",
      "---------------\n",
      "Raskolnikov’u kelimesi 1 defa geçiyor...\n",
      "---------------\n",
      "iyice kelimesi 1 defa geçiyor...\n",
      "---------------\n",
      "bitkin kelimesi 1 defa geçiyor...\n",
      "---------------\n",
      "düşürür kelimesi 1 defa geçiyor...\n",
      "---------------\n",
      "hastalanır kelimesi 1 defa geçiyor...\n",
      "---------------\n",
      "İmdadına kelimesi 1 defa geçiyor...\n",
      "---------------\n",
      "en kelimesi 2 defa geçiyor...\n",
      "---------------\n",
      "yakın kelimesi 1 defa geçiyor...\n",
      "---------------\n",
      "arkadaşı kelimesi 1 defa geçiyor...\n",
      "---------------\n",
      "Razumikin kelimesi 1 defa geçiyor...\n",
      "---------------\n",
      "yetişir kelimesi 1 defa geçiyor...\n",
      "---------------\n",
      "Ona kelimesi 1 defa geçiyor...\n",
      "---------------\n",
      "destek kelimesi 1 defa geçiyor...\n",
      "---------------\n",
      "olur kelimesi 2 defa geçiyor...\n",
      "---------------\n",
      "doktor kelimesi 1 defa geçiyor...\n",
      "---------------\n",
      "bulur kelimesi 1 defa geçiyor...\n",
      "---------------\n",
      "elinden kelimesi 1 defa geçiyor...\n",
      "---------------\n",
      "gelen kelimesi 1 defa geçiyor...\n",
      "---------------\n",
      "her kelimesi 1 defa geçiyor...\n",
      "---------------\n",
      "şeyi kelimesi 1 defa geçiyor...\n",
      "---------------\n",
      "yapar kelimesi 1 defa geçiyor...\n",
      "---------------\n",
      "giden kelimesi 1 defa geçiyor...\n",
      "---------------\n",
      "durumuna kelimesi 1 defa geçiyor...\n",
      "---------------\n",
      "şüphecilik kelimesi 1 defa geçiyor...\n",
      "---------------\n",
      "korku kelimesi 1 defa geçiyor...\n",
      "---------------\n",
      "eklenir kelimesi 1 defa geçiyor...\n",
      "---------------\n",
      "Sürekli kelimesi 1 defa geçiyor...\n",
      "---------------\n",
      "birilerinin kelimesi 2 defa geçiyor...\n",
      "---------------\n",
      "izlediğini kelimesi 1 defa geçiyor...\n",
      "---------------\n",
      "düşünür kelimesi 2 defa geçiyor...\n",
      "---------------\n",
      "Cinayeti kelimesi 1 defa geçiyor...\n",
      "---------------\n",
      "gördüğü kelimesi 1 defa geçiyor...\n",
      "---------------\n",
      "yada kelimesi 1 defa geçiyor...\n",
      "---------------\n",
      "azından kelimesi 1 defa geçiyor...\n",
      "---------------\n",
      "onun kelimesi 2 defa geçiyor...\n",
      "---------------\n",
      "yaptığını kelimesi 1 defa geçiyor...\n",
      "---------------\n",
      "bildiğini kelimesi 1 defa geçiyor...\n",
      "---------------\n",
      "Bu kelimesi 1 defa geçiyor...\n",
      "---------------\n",
      "tedirginlik kelimesi 1 defa geçiyor...\n",
      "---------------\n",
      "durumunu kelimesi 1 defa geçiyor...\n",
      "---------------\n",
      "sürükler kelimesi 1 defa geçiyor...\n",
      "---------------\n",
      "duruma kelimesi 1 defa geçiyor...\n",
      "---------------\n",
      "işlediği kelimesi 1 defa geçiyor...\n",
      "---------------\n",
      "cinayeti kelimesi 1 defa geçiyor...\n",
      "---------------\n",
      "Sonya’ya kelimesi 1 defa geçiyor...\n",
      "---------------\n",
      "anlatır kelimesi 1 defa geçiyor...\n",
      "---------------\n",
      "Ardından kelimesi 1 defa geçiyor...\n",
      "---------------\n",
      "polise kelimesi 1 defa geçiyor...\n",
      "---------------\n",
      "teslim kelimesi 1 defa geçiyor...\n",
      "---------------\n",
      "cezasını kelimesi 1 defa geçiyor...\n",
      "---------------\n",
      "çekmek kelimesi 1 defa geçiyor...\n",
      "---------------\n",
      "üzere kelimesi 1 defa geçiyor...\n",
      "---------------\n",
      "hapse kelimesi 1 defa geçiyor...\n",
      "---------------\n",
      "gönderilir kelimesi 1 defa geçiyor...\n",
      "---------------\n"
     ]
    }
   ],
   "source": [
    "# Metin okuma\n",
    "\n",
    "class Dosya():\n",
    "\n",
    "    def __init__(self):\n",
    "\n",
    "        with open(\"metin.txt\",\"r\",encoding=\"utf-8\") as file:\n",
    "\n",
    "            dosya_iceriği = file.read()\n",
    "            kelimeler = dosya_iceriği.split()\n",
    "            self.sade_kelimeler = list()\n",
    "\n",
    "            #Kelimeleri sadeleştirmek için\n",
    "            for i in kelimeler:\n",
    "                i = i.strip(\"\\n\")\n",
    "                i = i.strip(\" \")\n",
    "                i = i.strip(\".\")\n",
    "                i = i.strip(\",\")\n",
    "\n",
    "                self.sade_kelimeler.append(i)\n",
    "    def tum_kelimeler(self):\n",
    "        kelimeler_kumesi = set()\n",
    "\n",
    "        for i in self.sade_kelimeler:\n",
    "            kelimeler_kumesi.add(i)\n",
    "        print(\"Tüm kelimeler......\")\n",
    "\n",
    "        for i in kelimeler_kumesi:\n",
    "            print(i)\n",
    "            print(\"*************\")\n",
    "    def kelime_frekansı(self):\n",
    "\n",
    "        kelime_sozluk = dict()\n",
    "\n",
    "        for i in self.sade_kelimeler:\n",
    "\n",
    "            if i in kelime_sozluk:\n",
    "                kelime_sozluk[i] += 1\n",
    "            else:\n",
    "                kelime_sozluk[i] = 1\n",
    "        for kelime,sayı in kelime_sozluk.items():\n",
    "            print(\"{} kelimesi {} defa geçiyor...\".format(kelime,sayı))\n",
    "            print(\"---------------\")\n",
    "\n",
    "dosya = Dosya()\n",
    "dosya.kelime_frekansı()"
   ]
  },
  {
   "cell_type": "code",
   "execution_count": null,
   "metadata": {},
   "outputs": [],
   "source": []
  }
 ],
 "metadata": {
  "kernelspec": {
   "display_name": "Python 3",
   "language": "python",
   "name": "python3"
  },
  "language_info": {
   "codemirror_mode": {
    "name": "ipython",
    "version": 3
   },
   "file_extension": ".py",
   "mimetype": "text/x-python",
   "name": "python",
   "nbconvert_exporter": "python",
   "pygments_lexer": "ipython3",
   "version": "3.9.6"
  },
  "orig_nbformat": 4
 },
 "nbformat": 4,
 "nbformat_minor": 2
}
