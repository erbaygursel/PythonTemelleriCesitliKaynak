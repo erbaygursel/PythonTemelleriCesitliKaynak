{
 "cells": [
  {
   "cell_type": "markdown",
   "metadata": {},
   "source": [
    "SqLite Veritabı"
   ]
  },
  {
   "cell_type": "code",
   "execution_count": 20,
   "metadata": {},
   "outputs": [
    {
     "name": "stdout",
     "output_type": "stream",
     "text": [
      "('İstanbul Hatırası', 'Ahmet Ümit')\n",
      "('Gerrah', 'Terss')\n",
      "('Aleksi', 'Zorba')\n"
     ]
    },
    {
     "data": {
      "text/plain": [
       "'isim = input(\"İsim:\")\\nyazar = input(\"Yazar:\")\\nyayınevi = input(\"Yayınevi:\")\\nsayfa_sayısı = int(input(\"Sayfa sayısı:\"))'"
      ]
     },
     "execution_count": 20,
     "metadata": {},
     "output_type": "execute_result"
    }
   ],
   "source": [
    "import sqlite3 #sqlite dahil et.\n",
    "\n",
    "con = sqlite3.connect(\"kütüphane.db\")# Tabloya bağlan\n",
    "\n",
    "cursor = con.cursor()# İmleç yap veritabında işlem yapmak için.\n",
    "def tablo_olustur():\n",
    "    cursor.execute(\"CREATE TABLE IF NOT EXISTS kitaplık (isim TEXT, Yazar TEXT, Yayınevi TEXT, sayfa_sayısı İNT)\")\n",
    "    con.commit()\n",
    "def veri_ekle():\n",
    "    cursor.execute(\"INSERT INTO kitaplık Values('İstanbul Hatırası','Ahmet Ümit','Everest',561)\")\n",
    "    con.commit()\n",
    "def veri_ekle2(isim,yazar,yayınevi,sayfa_sayısı):\n",
    "    cursor.execute(\"INSERT INTO kitaplık Values(?,?,?,?)\",(isim,yazar,yayınevi,sayfa_sayısı))\n",
    "    con.commit()\n",
    "def verileri_al():\n",
    "    cursor.execute(\"Select * From kitaplık\")\n",
    "    liste = cursor.fetchall()\n",
    "    print(\"Kitaplık tablosunun bilgileri...\")\n",
    "    for i in liste:\n",
    "        print(i)\n",
    "\n",
    "#verileri_al()\n",
    "def verileri_al2():\n",
    "    cursor.execute(\"Select isim,yazar From kitaplık\")\n",
    "    liste = cursor.fetchall()\n",
    "    for i in liste:\n",
    "        print(i)\n",
    "verileri_al2()\n",
    "\n",
    "\n",
    "\"\"\"isim = input(\"İsim:\")\n",
    "yazar = input(\"Yazar:\")\n",
    "yayınevi = input(\"Yayınevi:\")\n",
    "sayfa_sayısı = int(input(\"Sayfa sayısı:\"))\"\"\"\n",
    "#veri_ekle2(isim,yazar,yayınevi,sayfa_sayısı)\n",
    "#veri_ekle()\n",
    "#tablo_olustur()\n",
    "#con.close() # Bağlantıyı kopar.\n"
   ]
  },
  {
   "cell_type": "markdown",
   "metadata": {},
   "source": [
    "Tablodan veri çekme"
   ]
  },
  {
   "cell_type": "code",
   "execution_count": null,
   "metadata": {},
   "outputs": [],
   "source": [
    "\n",
    "\n",
    "SELECT * FROM kitaplık # Tüm bilgiler\n",
    "\n",
    "SELECT isim, yazar FROM kitaplık # Sadece isim ve yazar\n",
    "\n",
    "SELECT * FROM kitaplık where yayınevi = \"Everest\" # kitaplıktan sadece yayınevi everest olanları alır.\n"
   ]
  },
  {
   "cell_type": "markdown",
   "metadata": {},
   "source": [
    "Tablo Güncelleme ve Verileri Silme"
   ]
  },
  {
   "cell_type": "code",
   "execution_count": null,
   "metadata": {},
   "outputs": [],
   "source": [
    "Update kitaplık set yayınevi = \"Everest\" where yayınevi = \"Doğan\"\n",
    "# Doğan olanları evereste günceller."
   ]
  },
  {
   "cell_type": "code",
   "execution_count": 25,
   "metadata": {},
   "outputs": [
    {
     "name": "stdout",
     "output_type": "stream",
     "text": [
      "Kitaplık tablosunun bilgileri...\n",
      "('İstanbul Hatırası', 'Ahmet Ümit', 'Everest', 561)\n",
      "('Gerrah', 'Terss', 'Doğan', 271)\n",
      "('Aleksi', 'Zorba', 'Doğan', 573)\n"
     ]
    }
   ],
   "source": [
    "def verileri_güncelle(eski_yayınevi,yeni_yayınevi):\n",
    "    cursor.execute(\"Update kitaplık set yayınevi = ? where yayınevi = ?\",(yeni_yayınevi, eski_yayınevi))\n",
    "    con.commit()\n",
    "\n",
    "verileri_güncelle(\"Can\", \"Doğan\")\n",
    "verileri_al()\n"
   ]
  },
  {
   "cell_type": "code",
   "execution_count": 30,
   "metadata": {},
   "outputs": [
    {
     "name": "stdout",
     "output_type": "stream",
     "text": [
      "Kitaplık tablosunun bilgileri...\n",
      "('İstanbul Hatırası', 'Ahmet Ümit', 'Everest', 561)\n",
      "('Aleksi', 'Zorba', 'Doğan', 573)\n"
     ]
    }
   ],
   "source": [
    "def verileri_sil(yazar):\n",
    "    cursor.execute(\"Delete From kitaplık where yazar = ?\",(yazar,))\n",
    "    con.commit()\n",
    "verileri_sil(\"Terss\")\n",
    "verileri_al()"
   ]
  },
  {
   "cell_type": "code",
   "execution_count": null,
   "metadata": {},
   "outputs": [],
   "source": []
  }
 ],
 "metadata": {
  "kernelspec": {
   "display_name": "Python 3",
   "language": "python",
   "name": "python3"
  },
  "language_info": {
   "codemirror_mode": {
    "name": "ipython",
    "version": 3
   },
   "file_extension": ".py",
   "mimetype": "text/x-python",
   "name": "python",
   "nbconvert_exporter": "python",
   "pygments_lexer": "ipython3",
   "version": "3.9.6"
  },
  "orig_nbformat": 4
 },
 "nbformat": 4,
 "nbformat_minor": 2
}
