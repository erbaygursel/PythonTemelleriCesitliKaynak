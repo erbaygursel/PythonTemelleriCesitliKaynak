{
 "cells": [
  {
   "attachments": {},
   "cell_type": "markdown",
   "metadata": {},
   "source": [
    "You are a physics teacher preparing for the upcoming semester. You want to provide your students with some functions that will help them calculate some fundamental physical properties."
   ]
  },
  {
   "cell_type": "code",
   "execution_count": null,
   "metadata": {},
   "outputs": [],
   "source": [
    "train_mass = 22680\n",
    "train_acceleration = 10\n",
    "train_distance = 100\n",
    "bomb_mass = 1\n",
    "\n",
    "\n",
    "# Write your code below: \n",
    "\n",
    "# Fahreneit to celsius\n",
    "def f_to_c(f_temp):\n",
    "  c_temp = (f_temp - 32) * 5/9\n",
    "  return c_temp\n",
    "f100_in_celsius = f_to_c(32)\n",
    "print(f100_in_celsius)\n",
    "\n",
    "# Celsius to Fahrenheit\n",
    "def c_to_f(c_temp):\n",
    "  f_temp = (c_temp * (9/5) + 32)\n",
    "  return f_temp\n",
    "c0_in_fahrenheit = c_to_f(0)\n",
    "print(c0_in_fahrenheit)\n",
    "\n",
    "# Force Calculation\n",
    "def get_force(mass, acceleration):\n",
    "  return mass * acceleration\n",
    "train_force = train_mass * train_acceleration\n",
    "print(f\"The GE train supplies {train_force} Newtons of force\")\n",
    "\n",
    "# Bomb Energy\n",
    "def get_energy(mass, c = 3*10**8):\n",
    "  return  mass * c **2\n",
    "bomb_energy = get_energy(bomb_mass)\n",
    "print( f\"A 1kg bomb supplies {bomb_energy} Joules.\")\n",
    "\n",
    "#Joule of work\n",
    "def get_work(mass, acceleration, distance):\n",
    "  get_force = mass * acceleration\n",
    "  return get_force * distance\n",
    "train_work = get_work(train_mass, train_acceleration, train_distance)\n",
    "print(f\"The GE train does {train_work} Joules of work over {train_distance} meters.\")"
   ]
  }
 ],
 "metadata": {
  "language_info": {
   "name": "python"
  },
  "orig_nbformat": 4
 },
 "nbformat": 4,
 "nbformat_minor": 2
}
