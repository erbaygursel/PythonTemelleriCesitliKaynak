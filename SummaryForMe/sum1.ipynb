{
 "cells": [
  {
   "cell_type": "markdown",
   "metadata": {},
   "source": [
    "## Udemy Python dersini izlerken aldığım kısa notlar.\n",
    "\n",
    "Bu kursu tamamen bitirmek niyetindeyim çünkü hem kısa bir tekrar hem de yeni bilgiler için ideal. Ayrıca Python adına kapsayıcı bir bilgi sahibi olacağım."
   ]
  },
  {
   "cell_type": "code",
   "execution_count": 4,
   "metadata": {},
   "outputs": [
    {
     "name": "stdout",
     "output_type": "stream",
     "text": [
      "9\n",
      "36\n"
     ]
    }
   ],
   "source": [
    "i = 5\n",
    "\n",
    "i += 4\n",
    "\n",
    "print(i)\n",
    "\n",
    "i *= 4\n",
    "\n",
    "print(i)"
   ]
  },
  {
   "cell_type": "code",
   "execution_count": 5,
   "metadata": {},
   "outputs": [
    {
     "data": {
      "text/plain": [
       "'\\nÇoklu\\nYorum\\nSatırı'"
      ]
     },
     "execution_count": 5,
     "metadata": {},
     "output_type": "execute_result"
    }
   ],
   "source": [
    "#Tekli yorum satırı.\n",
    "\n",
    "\"\"\"\n",
    "Çoklu\n",
    "Yorum\n",
    "Satırı\n",
    "\"\"\""
   ]
  },
  {
   "cell_type": "code",
   "execution_count": 8,
   "metadata": {},
   "outputs": [
    {
     "name": "stdout",
     "output_type": "stream",
     "text": [
      "<class 'str'>\n",
      "1\n"
     ]
    }
   ],
   "source": [
    "var1 = \"1\"\n",
    "print(type(var1))\n",
    "\n",
    "int(var1)\n",
    "print(var1)"
   ]
  },
  {
   "cell_type": "code",
   "execution_count": 9,
   "metadata": {},
   "outputs": [
    {
     "data": {
      "text/plain": [
       "2.0"
      ]
     },
     "execution_count": 9,
     "metadata": {},
     "output_type": "execute_result"
    }
   ],
   "source": [
    "\"\"\"\n",
    "// -> Bölme\n",
    "% -> Kalan bulma\n",
    "** -> Üs Bulma\n",
    "\n",
    "\"\"\"\n",
    "\n",
    "8 ** (1/3)"
   ]
  },
  {
   "cell_type": "code",
   "execution_count": 15,
   "metadata": {},
   "outputs": [
    {
     "name": "stdout",
     "output_type": "stream",
     "text": [
      "Python\n",
      "Python Develope\n",
      "repoleveD nohtyP\n"
     ]
    }
   ],
   "source": [
    "#[başlama indeksi: bitiş indeksi : atlama indeksi]\n",
    "\n",
    "a = \"Python Developer\"\n",
    "\n",
    "print(a[0:6])\n",
    "\n",
    "print(a[: -1])\n",
    "\n",
    "print(a[::-1])\n",
    "\n"
   ]
  },
  {
   "cell_type": "code",
   "execution_count": 27,
   "metadata": {},
   "outputs": [
    {
     "data": {
      "text/plain": [
       "26"
      ]
     },
     "execution_count": 27,
     "metadata": {},
     "output_type": "execute_result"
    }
   ],
   "source": [
    "d = \"Python\"\n",
    "\n",
    "len(c)"
   ]
  },
  {
   "cell_type": "code",
   "execution_count": 28,
   "metadata": {},
   "outputs": [
    {
     "name": "stdout",
     "output_type": "stream",
     "text": [
      "Python Developer\n"
     ]
    }
   ],
   "source": [
    "# Stringi değiştiremeyiz ama yeni bir atama yaparsak artık değerimiz o olur. Yeni c kaydedilir.\n",
    "\n",
    "d = d + \" Developer\"\n",
    "print(d)"
   ]
  },
  {
   "cell_type": "code",
   "execution_count": 29,
   "metadata": {},
   "outputs": [
    {
     "data": {
      "text/plain": [
       "'Python Developer'"
      ]
     },
     "execution_count": 29,
     "metadata": {},
     "output_type": "execute_result"
    }
   ],
   "source": [
    "# Mesela ayrı olarak burada d'yi bir daha çağıralım ve ne olduğunu görelim.\n",
    "\n",
    "d\n",
    "\n",
    "#Görüldüğü gibi artık değerimiz \"Pyhton\" değil, \"Python Developer\""
   ]
  },
  {
   "cell_type": "code",
   "execution_count": 30,
   "metadata": {},
   "outputs": [
    {
     "name": "stdout",
     "output_type": "stream",
     "text": [
      "Merhaba\n",
      "Python\n"
     ]
    }
   ],
   "source": [
    "# \\n -> Satır atlama\n",
    "print(\"Merhaba\\nPython\")"
   ]
  },
  {
   "cell_type": "code",
   "execution_count": 33,
   "metadata": {},
   "outputs": [
    {
     "name": "stdout",
     "output_type": "stream",
     "text": [
      "Merhaba\t\tPython\n"
     ]
    }
   ],
   "source": [
    "# \\t ->> Tablama\n",
    "print(\"Merhaba\\t\\tPython\")"
   ]
  },
  {
   "cell_type": "code",
   "execution_count": 37,
   "metadata": {},
   "outputs": [
    {
     "name": "stdout",
     "output_type": "stream",
     "text": [
      "2/4/5/6\n",
      "****\n",
      "2\n",
      "4\n",
      "5\n",
      "6\n"
     ]
    }
   ],
   "source": [
    "# Boşluk yerine başka bir şey koymak istersek.\n",
    "\n",
    "print(2,4,5,6, sep = \"/\") # ->> Doğum günü için olabilir.\n",
    "print(\"****\")\n",
    "print(2,4,5,6, sep = \"\\n\")"
   ]
  },
  {
   "cell_type": "code",
   "execution_count": 40,
   "metadata": {},
   "outputs": [
    {
     "name": "stdout",
     "output_type": "stream",
     "text": [
      "23 Demek'tir.\n"
     ]
    }
   ],
   "source": [
    "# Formatlama\n",
    "a = 23\n",
    "b = \"Demek\"\n",
    "\n",
    "print(\"{} {}'tir.\".format(a,b))"
   ]
  },
  {
   "cell_type": "code",
   "execution_count": 43,
   "metadata": {},
   "outputs": [
    {
     "name": "stdout",
     "output_type": "stream",
     "text": [
      "[]\n",
      "['N', 'e', ' ', 'd', 'e', 'm', 'e', 'k']\n"
     ]
    }
   ],
   "source": [
    "# Liste\n",
    "\n",
    "liste = list()\n",
    "print(liste)\n",
    "\n",
    "print(list(\"Ne demek\"))"
   ]
  },
  {
   "cell_type": "code",
   "execution_count": 47,
   "metadata": {},
   "outputs": [
    {
     "name": "stdout",
     "output_type": "stream",
     "text": [
      "[1, 2, 3, 4, 5, 6, 'Er']\n",
      "[1, 2, 3, 4, 5, 6]\n",
      "[2, 3, 4, 5, 6]\n"
     ]
    }
   ],
   "source": [
    "#Liste Metotları\n",
    "\n",
    "liste = [1,2,3,4,5,6]\n",
    "\n",
    "liste.append(\"Er\")\n",
    "print(liste)\n",
    "\n",
    "liste.pop()\n",
    "\n",
    "print(liste)\n",
    "\n",
    "liste.pop(0)\n",
    "\n",
    "print(liste)"
   ]
  },
  {
   "cell_type": "code",
   "execution_count": 53,
   "metadata": {},
   "outputs": [
    {
     "name": "stdout",
     "output_type": "stream",
     "text": [
      "[1, 2, 6, 45, 89, 234]\n",
      "[234, 89, 45, 6, 2, 1]\n",
      "['Er', 'Has', 'Sez']\n"
     ]
    }
   ],
   "source": [
    "liste2= [2,6,1,234,45,89]\n",
    "\n",
    "liste2.sort()\n",
    "print(liste2)\n",
    "\n",
    "liste2.sort(reverse= True)\n",
    "\n",
    "print(liste2)\n",
    "# Sözcük sıralamada da işe yarıyor.\n",
    "listeSözcük = [ \"Sez\",\"Er\", \"Has\"]\n",
    "\n",
    "listeSözcük.sort()\n",
    "\n",
    "print(listeSözcük)"
   ]
  },
  {
   "cell_type": "code",
   "execution_count": 66,
   "metadata": {},
   "outputs": [
    {
     "name": "stdout",
     "output_type": "stream",
     "text": [
      "<class 'tuple'>\n",
      "(1, 2, 3, 4)\n",
      "4\n",
      "10\n"
     ]
    }
   ],
   "source": [
    "# Tuplelar (Demetler) ->> Değiştirilemez ->> Değiştirilmesini istemediğiniz değerler için bu sistem kullanılır.\n",
    "\n",
    "demet = (1,2,3,4,5,6,6,6,6,7,8)\n",
    "print(type(demet))\n",
    "\n",
    "print(demet[:4])\n",
    "\n",
    "print(demet.count(6))\n",
    "\n",
    "print(demet.index(8))"
   ]
  },
  {
   "cell_type": "code",
   "execution_count": 71,
   "metadata": {},
   "outputs": [
    {
     "name": "stdout",
     "output_type": "stream",
     "text": [
      "1\n",
      "{'bir': 1, 'iki': 2, 'üç': 3, 'beş': 5}\n",
      "{'bir': 1, 'iki': 12, 'üç': 3, 'beş': 5}\n"
     ]
    }
   ],
   "source": [
    "# Sözlükler -> Key & Value\n",
    "sözlük1 = {\"bir\":1, \"iki\":2, \"üç\":3}\n",
    "\n",
    "print(sözlük1[\"bir\"])\n",
    "\n",
    "sözlük1[\"beş\"] = 5\n",
    "\n",
    "print(sözlük1)\n",
    "\n",
    "sözlük1[\"iki\"] = 12\n",
    "\n",
    "print(sözlük1)"
   ]
  },
  {
   "cell_type": "code",
   "execution_count": 72,
   "metadata": {},
   "outputs": [
    {
     "data": {
      "text/plain": [
       "dict_keys(['bir', 'iki', 'üç', 'beş'])"
      ]
     },
     "execution_count": 72,
     "metadata": {},
     "output_type": "execute_result"
    }
   ],
   "source": [
    "# Metotlar; keys, values, items\n",
    "\n",
    "sözlük1.keys()"
   ]
  },
  {
   "cell_type": "code",
   "execution_count": 74,
   "metadata": {},
   "outputs": [
    {
     "name": "stdout",
     "output_type": "stream",
     "text": [
      "dict_values([1, 12, 3, 5])\n",
      "dict_items([('bir', 1), ('iki', 12), ('üç', 3), ('beş', 5)])\n"
     ]
    }
   ],
   "source": [
    "print(sözlük1.values())\n",
    "\n",
    "print(sözlük1.items())"
   ]
  },
  {
   "cell_type": "code",
   "execution_count": 81,
   "metadata": {},
   "outputs": [
    {
     "name": "stdout",
     "output_type": "stream",
     "text": [
      "75\n"
     ]
    }
   ],
   "source": [
    "# İnput ->> Girdi almamk.\n",
    "\n",
    "yas = int(input(\"Yaşın kaç?\"))\n",
    "print(yas * 3)"
   ]
  },
  {
   "cell_type": "code",
   "execution_count": null,
   "metadata": {},
   "outputs": [],
   "source": []
  }
 ],
 "metadata": {
  "kernelspec": {
   "display_name": "Python 3",
   "language": "python",
   "name": "python3"
  },
  "language_info": {
   "codemirror_mode": {
    "name": "ipython",
    "version": 3
   },
   "file_extension": ".py",
   "mimetype": "text/x-python",
   "name": "python",
   "nbconvert_exporter": "python",
   "pygments_lexer": "ipython3",
   "version": "3.9.6"
  },
  "orig_nbformat": 4
 },
 "nbformat": 4,
 "nbformat_minor": 2
}
