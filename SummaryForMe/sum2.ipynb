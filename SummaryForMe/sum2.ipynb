{
 "cells": [
  {
   "cell_type": "markdown",
   "metadata": {},
   "source": [
    "Kursun 2. gününde benim için önemli olan kısımlar."
   ]
  },
  {
   "cell_type": "code",
   "execution_count": null,
   "metadata": {},
   "outputs": [],
   "source": [
    "a = None  # Henüz değer atanmamış."
   ]
  },
  {
   "cell_type": "code",
   "execution_count": 2,
   "metadata": {},
   "outputs": [
    {
     "name": "stdout",
     "output_type": "stream",
     "text": [
      "İçeri giremezsiniz, yaşınız küçük.\n"
     ]
    }
   ],
   "source": [
    "yas = int(input(\"Yaşınızı girin: \"))\n",
    "\n",
    "if (yas > 18):\n",
    "    print(\"İçeri girebilirsiniz.\")\n",
    "else:\n",
    "    print(\"İçeri giremezsiniz, yaşınız küçük.\")\n"
   ]
  },
  {
   "cell_type": "code",
   "execution_count": 4,
   "metadata": {},
   "outputs": [
    {
     "name": "stdout",
     "output_type": "stream",
     "text": [
      "İşlem 3 seçildi.\n"
     ]
    }
   ],
   "source": [
    "islem = int(input(\"İşlem seçiniz:\"))\n",
    "\n",
    "if islem == 1:\n",
    "    print(\"İşlem bir seçildi.\")\n",
    "elif islem == 2:\n",
    "    print(\"İşlem 2 seçildi.\")\n",
    "elif islem == 3:\n",
    "    print(\"İşlem 3 seçildi.\")\n",
    "else:\n",
    "    print(\"Geçersiz işlem.\")"
   ]
  },
  {
   "cell_type": "code",
   "execution_count": 13,
   "metadata": {},
   "outputs": [
    {
     "name": "stdout",
     "output_type": "stream",
     "text": [
      "3 ile 8'nın farkı -5'dur.\n"
     ]
    }
   ],
   "source": [
    "\"\"\"\n",
    "1.işlem : Toplama\n",
    "2.işlem : Çıkarma\n",
    "\n",
    "\"\"\"\n",
    "islem = int(input(\"Yapmak istediğiniz islem nedir?\"))\n",
    "sayı1 = int(input(\"1.sayı giriniz.\"))\n",
    "sayı2 = int(input(\"2.yı giriniz.\"))\n",
    "\n",
    "if islem == 1:\n",
    "    print(\"{} ile {}'nın toplamı {}'dur.\".format(sayı1,sayı2, sayı1 + sayı2))\n",
    "elif islem == 2:\n",
    "    print(\"{} ile {}'nın farkı {}'dur.\".format(sayı1, sayı2, sayı1 - sayı2))\n",
    "else:\n",
    "    print(\"Geçersiz işlem.\")"
   ]
  },
  {
   "cell_type": "code",
   "execution_count": 15,
   "metadata": {},
   "outputs": [
    {
     "name": "stdout",
     "output_type": "stream",
     "text": [
      "False\n",
      "True\n"
     ]
    }
   ],
   "source": [
    "# Döngü yapıları : While & For\n",
    "\n",
    "#En basitten gidelim.\n",
    "print( 3 in [2,4,5,6] ) \n",
    "print( not 7 in [2,3,4,5,6])"
   ]
  },
  {
   "cell_type": "code",
   "execution_count": 16,
   "metadata": {},
   "outputs": [
    {
     "name": "stdout",
     "output_type": "stream",
     "text": [
      "1\n",
      "2\n",
      "3\n",
      "4\n",
      "5\n"
     ]
    }
   ],
   "source": [
    "liste = [1,2,3,4,5]\n",
    "\n",
    "for x in liste:\n",
    "    print(x)"
   ]
  },
  {
   "cell_type": "code",
   "execution_count": 29,
   "metadata": {},
   "outputs": [
    {
     "name": "stdout",
     "output_type": "stream",
     "text": [
      "x: 1, toplama: 1\n",
      "x: 2, toplama: 3\n",
      "x: 3, toplama: 6\n",
      "x: 4, toplama: 10\n",
      "x: 5, toplama: 15\n",
      "En son hali:15\n"
     ]
    }
   ],
   "source": [
    "toplam = 0\n",
    "liste = [1,2,3,4,5]\n",
    "\n",
    "for x in liste:\n",
    "    toplam += x\n",
    "    print(\"x: {}, toplama: {}\".format(x, toplam))\n",
    "    \n",
    "print(\"En son hali:\" + str(toplam))\n",
    " "
   ]
  },
  {
   "cell_type": "code",
   "execution_count": 32,
   "metadata": {},
   "outputs": [
    {
     "name": "stdout",
     "output_type": "stream",
     "text": [
      "1 tek sayıdır.\n",
      "2 çift sayıdır.\n",
      "3 tek sayıdır.\n",
      "4 çift sayıdır.\n",
      "5 tek sayıdır.\n",
      "6 çift sayıdır.\n",
      "7 tek sayıdır.\n"
     ]
    }
   ],
   "source": [
    "liste = [1,2,3,4,5,6,7]\n",
    "\n",
    "for x in liste:\n",
    "    if x % 2 == 0:\n",
    "        print(\"{} çift sayıdır.\".format(x))\n",
    "    else:\n",
    "        print(\"{} tek sayıdır.\".format(x))\n"
   ]
  },
  {
   "cell_type": "code",
   "execution_count": 36,
   "metadata": {},
   "outputs": [
    {
     "name": "stdout",
     "output_type": "stream",
     "text": [
      "(1, 2)\n",
      "(3, 4)\n",
      "(5, 6)\n",
      "......\n",
      "1 2\n",
      "3 4\n",
      "5 6\n",
      ".....\n",
      "a:1, b:2\n",
      "a:3, b:4\n",
      "a:5, b:6\n",
      ".....\n",
      "2\n",
      "12\n",
      "30\n"
     ]
    }
   ],
   "source": [
    "liste2 = [(1,2), (3,4), (5,6)]\n",
    "for x in liste2:\n",
    "    print(x)\n",
    "print(\"......\")\n",
    "for (a,b) in liste2:\n",
    "    print(a,b)\n",
    "print(\".....\")\n",
    "for (a,b) in liste2:\n",
    "    print(\"a:{}, b:{}\".format(a,b))\n",
    "print(\".....\")\n",
    "for (a,b) in liste2:\n",
    "    print(a * b)"
   ]
  },
  {
   "cell_type": "code",
   "execution_count": 39,
   "metadata": {},
   "outputs": [
    {
     "name": "stdout",
     "output_type": "stream",
     "text": [
      "i'nin değeri:  0\n",
      "i'nin değeri:  1\n",
      "i'nin değeri:  2\n",
      "i'nin değeri:  3\n",
      "i'nin değeri:  4\n",
      "i'nin değeri:  5\n",
      "i'nin değeri:  6\n",
      "i'nin değeri:  7\n",
      "i'nin değeri:  8\n",
      "i'nin değeri:  9\n"
     ]
    }
   ],
   "source": [
    "i = 0\n",
    "while (i < 10):\n",
    "    print(\"i'nin değeri: \", i)\n",
    "    i += 1"
   ]
  },
  {
   "cell_type": "code",
   "execution_count": 47,
   "metadata": {},
   "outputs": [
    {
     "name": "stdout",
     "output_type": "stream",
     "text": [
      "4 7 10 13 16 19 22\n"
     ]
    }
   ],
   "source": [
    "# range() fonksiyonuna bakalım. baş, son, artış miktarı\n",
    "\n",
    "print(*range(4, 23, 3))"
   ]
  },
  {
   "cell_type": "code",
   "execution_count": 48,
   "metadata": {},
   "outputs": [
    {
     "name": "stdout",
     "output_type": "stream",
     "text": [
      "0\n",
      "1\n",
      "2\n",
      "3\n",
      "4\n",
      "5\n",
      "6\n",
      "7\n",
      "8\n",
      "9\n"
     ]
    }
   ],
   "source": [
    "for x in range(10):\n",
    "    print(x)"
   ]
  },
  {
   "cell_type": "code",
   "execution_count": 53,
   "metadata": {},
   "outputs": [
    {
     "name": "stdout",
     "output_type": "stream",
     "text": [
      "* ->>1 yıldız\n",
      "** ->>2 yıldız\n",
      "*** ->>3 yıldız\n",
      "**** ->>4 yıldız\n",
      "***** ->>5 yıldız\n",
      "****** ->>6 yıldız\n",
      "******* ->>7 yıldız\n",
      "******** ->>8 yıldız\n",
      "********* ->>9 yıldız\n",
      "********** ->>10 yıldız\n"
     ]
    }
   ],
   "source": [
    "for i in range(1,11):\n",
    "    print(\"*\" * i,\"->>{} yıldız\".format(i))"
   ]
  },
  {
   "cell_type": "code",
   "execution_count": 56,
   "metadata": {},
   "outputs": [
    {
     "name": "stdout",
     "output_type": "stream",
     "text": [
      "i:  1\n",
      "i:  2\n",
      "continue\n",
      "i:  4\n",
      "i:  5\n",
      "i:  6\n"
     ]
    }
   ],
   "source": [
    "# Break ve Continue \n",
    "\n",
    "listee = [1,2,3,4,5,6,7,8]\n",
    "\n",
    "for i in liste:\n",
    "    if i == 3:\n",
    "        print(\"continue\")\n",
    "        continue\n",
    "    elif i == 7:\n",
    "        break\n",
    "    print(\"i: \", i)"
   ]
  },
  {
   "cell_type": "code",
   "execution_count": 63,
   "metadata": {},
   "outputs": [
    {
     "name": "stdout",
     "output_type": "stream",
     "text": [
      "Çıkış yapıldı.\n"
     ]
    }
   ],
   "source": [
    "while True:\n",
    "    isim = input(\"İsim gir: (Çıkmak için q' ya bas.)\")\n",
    "    if (isim == \"q\"):\n",
    "        print(\"Çıkış yapıldı.\")\n",
    "        break\n",
    "    print(\"İsminiz: \", isim)\n",
    "    break"
   ]
  },
  {
   "cell_type": "code",
   "execution_count": 69,
   "metadata": {},
   "outputs": [
    {
     "name": "stdout",
     "output_type": "stream",
     "text": [
      "0\n",
      "1\n",
      "Bu arkadaş continue oldu: 2\n",
      "3\n",
      "4\n",
      "5\n",
      "6\n",
      "7\n",
      "8\n",
      "9\n"
     ]
    }
   ],
   "source": [
    "sayı = 0\n",
    "while sayı < 10:\n",
    "    if sayı == 2:\n",
    "        print(\"Bu arkadaş continue oldu: 2\")\n",
    "        sayı += 1 # ---> Eğer bunu koymazsak sonsuz döngüye girer, 2 de takılı kalır.\n",
    "        continue\n",
    "    print(sayı)\n",
    "    sayı += 1"
   ]
  },
  {
   "cell_type": "code",
   "execution_count": 71,
   "metadata": {},
   "outputs": [
    {
     "name": "stdout",
     "output_type": "stream",
     "text": [
      "[1, 2, 3, 45, 6, 7, 8, 8, 9]\n",
      "[5, 10, 15, 225, 30, 35, 40, 40, 45]\n"
     ]
    }
   ],
   "source": [
    "#  List Comprehension ->>> Liste oluşturma kolay yoldan\n",
    "liste3 = [1,2,3,45,6,7,8,8,9]\n",
    "\n",
    "liste4 = [i for i in liste3]\n",
    "print(liste4)\n",
    "\n",
    "liste5 = [i * 5 for i in liste3]\n",
    "print(liste5)\n"
   ]
  },
  {
   "cell_type": "code",
   "execution_count": 77,
   "metadata": {},
   "outputs": [
    {
     "name": "stdout",
     "output_type": "stream",
     "text": [
      "[1, 2, 3]\n",
      "[4, 5, 6, 7]\n",
      "[8, 9, 10, 11, 12]\n",
      ".....\n",
      "1\n",
      "2\n",
      "3\n",
      "4\n",
      "5\n",
      "6\n",
      "7\n",
      "8\n",
      "9\n",
      "10\n",
      "11\n",
      "12\n",
      "[1, 2, 3, 4, 5, 6, 7, 8, 9, 10, 11, 12]\n"
     ]
    }
   ],
   "source": [
    "liste6 = [[1,2,3],[4,5,6,7],[8,9,10,11,12]]\n",
    "for i in liste6:\n",
    "    print(i)\n",
    "print(\".....\")\n",
    "for i in liste6:\n",
    "    for x in i:\n",
    "        print(x)\n",
    "#List comprehension ile deneyelim.\n",
    "liste7 = [x for i in liste6 for x in i]\n",
    "print(liste7)"
   ]
  },
  {
   "cell_type": "code",
   "execution_count": 83,
   "metadata": {},
   "outputs": [
    {
     "name": "stdout",
     "output_type": "stream",
     "text": [
      "120\n"
     ]
    }
   ],
   "source": [
    "while True:\n",
    "    number = input(\"Sayı girin:\")\n",
    "    if sayı == \"q\":\n",
    "        print(\"Çıkış yapıldı.\")\n",
    "        break\n",
    "    else:\n",
    "        number = int(number)\n",
    "        faktoriyel = 1\n",
    "\n",
    "        for i in range(2, number + 1):\n",
    "            faktoriyel *= i\n",
    "        print(faktoriyel)\n",
    "        break\n",
    "\n"
   ]
  },
  {
   "cell_type": "code",
   "execution_count": 86,
   "metadata": {},
   "outputs": [
    {
     "name": "stdout",
     "output_type": "stream",
     "text": [
      "[1, 1, 2, 3, 5, 8, 13, 21, 34, 55]\n"
     ]
    }
   ],
   "source": [
    "# Fibonacci\n",
    "\n",
    "a = 1\n",
    "b = 1\n",
    "fibonacci = [a,b]\n",
    "\n",
    "for i in range(8):\n",
    "    a,b = b, a+b\n",
    "    fibonacci.append(b)\n",
    "print(fibonacci)\n"
   ]
  },
  {
   "cell_type": "code",
   "execution_count": 1,
   "metadata": {},
   "outputs": [
    {
     "name": "stdout",
     "output_type": "stream",
     "text": [
      "Help on built-in function append:\n",
      "\n",
      "append(object, /) method of builtins.list instance\n",
      "    Append object to the end of the list.\n",
      "\n"
     ]
    }
   ],
   "source": [
    "## Metot ve Fonksiyonlar...\n",
    "\n",
    "# Diyelim ki metodun ne yaptığını unuttun\n",
    "a = []\n",
    "help(a.append)\n",
    "\n",
    "# Böylece ne olduğu ve ne işe yaradığını anlamış oluruz.\n"
   ]
  },
  {
   "cell_type": "code",
   "execution_count": null,
   "metadata": {},
   "outputs": [],
   "source": [
    "def fonksiyon_adi(parametre1, parametre2....(opsiyonel)):\n",
    "    # Fonksiyon bloğu\n",
    "    yapılacak işlemler\n",
    "    # Dönüş değeri (Opsiyonel)"
   ]
  },
  {
   "cell_type": "code",
   "execution_count": 2,
   "metadata": {},
   "outputs": [
    {
     "ename": "NameError",
     "evalue": "name 'selamla' is not defined",
     "output_type": "error",
     "traceback": [
      "\u001b[0;31m---------------------------------------------------------------------------\u001b[0m",
      "\u001b[0;31mNameError\u001b[0m                                 Traceback (most recent call last)",
      "\u001b[1;32m/Users/erbaygursel/Documents/GitHub/PythonTemelleriCesitliKaynak/SummaryForMe/sum2.ipynb Cell 24\u001b[0m line \u001b[0;36m3\n\u001b[1;32m      <a href='vscode-notebook-cell:/Users/erbaygursel/Documents/GitHub/PythonTemelleriCesitliKaynak/SummaryForMe/sum2.ipynb#X33sZmlsZQ%3D%3D?line=0'>1</a>\u001b[0m \u001b[39m# Mesela selamla adında bir fonksiyonu yapalım.\u001b[39;00m\n\u001b[0;32m----> <a href='vscode-notebook-cell:/Users/erbaygursel/Documents/GitHub/PythonTemelleriCesitliKaynak/SummaryForMe/sum2.ipynb#X33sZmlsZQ%3D%3D?line=2'>3</a>\u001b[0m \u001b[39mtype\u001b[39m(selamla)\n",
      "\u001b[0;31mNameError\u001b[0m: name 'selamla' is not defined"
     ]
    }
   ],
   "source": [
    "# Mesela selamla adında bir fonksiyonu yapalım.\n",
    "\n",
    "type(selamla)\n",
    "\n",
    "# Tanımlı olmadığı için bilgisayara bunu biz tanıtalım, böylece hata da gidecek."
   ]
  },
  {
   "cell_type": "code",
   "execution_count": 3,
   "metadata": {},
   "outputs": [],
   "source": [
    "def selamla():\n",
    "    print(\"Merhaba...\")"
   ]
  },
  {
   "cell_type": "code",
   "execution_count": 7,
   "metadata": {},
   "outputs": [
    {
     "name": "stdout",
     "output_type": "stream",
     "text": [
      "<class 'function'>\n",
      "Merhaba...\n"
     ]
    }
   ],
   "source": [
    "print(type(selamla))\n",
    "selamla()\n",
    "# Görüldüğü gibi biz bu fonksiyonu tanıtmış olduk ve ilerde kullanabiliriz."
   ]
  },
  {
   "cell_type": "code",
   "execution_count": 8,
   "metadata": {},
   "outputs": [],
   "source": [
    "# Geliştirelim... isim ->> Parametre & Erbay ->> Argüman\n",
    "def selamla(isim):\n",
    "    print(\"İsminiz: \", isim)\n"
   ]
  },
  {
   "cell_type": "code",
   "execution_count": 9,
   "metadata": {},
   "outputs": [
    {
     "name": "stdout",
     "output_type": "stream",
     "text": [
      "İsminiz:  Erbay\n"
     ]
    }
   ],
   "source": [
    "selamla(\"Erbay\")"
   ]
  },
  {
   "cell_type": "code",
   "execution_count": 34,
   "metadata": {},
   "outputs": [
    {
     "name": "stdout",
     "output_type": "stream",
     "text": [
      "Faktoriyel:  1\n",
      "Faktoriyel:  24\n"
     ]
    }
   ],
   "source": [
    "# Yukarıda örneklerde faktoriyel yapmıştık,\n",
    "# şimdi bunu fonksiyona çeviererek yapalım.\n",
    "\n",
    "def faktoriyel(sayı):\n",
    "    faktoriyel = 1\n",
    "    if sayı == 0 or sayı == 1:\n",
    "        print(\"Faktoriyel: \", faktoriyel)\n",
    "    else:\n",
    "        while sayı >= 1 :\n",
    "            faktoriyel = faktoriyel * sayı\n",
    "            sayı -= 1\n",
    "        print(\"Faktoriyel: \",faktoriyel)\n",
    "faktoriyel(1)\n",
    "faktoriyel(4)"
   ]
  },
  {
   "cell_type": "code",
   "execution_count": 41,
   "metadata": {},
   "outputs": [
    {
     "name": "stdout",
     "output_type": "stream",
     "text": [
      "9\n"
     ]
    },
    {
     "ename": "TypeError",
     "evalue": "unsupported operand type(s) for *: 'NoneType' and 'int'",
     "output_type": "error",
     "traceback": [
      "\u001b[0;31m---------------------------------------------------------------------------\u001b[0m",
      "\u001b[0;31mTypeError\u001b[0m                                 Traceback (most recent call last)",
      "\u001b[1;32m/Users/erbaygursel/Documents/GitHub/PythonTemelleriCesitliKaynak/SummaryForMe/sum2.ipynb Cell 30\u001b[0m line \u001b[0;36m9\n\u001b[1;32m      <a href='vscode-notebook-cell:/Users/erbaygursel/Documents/GitHub/PythonTemelleriCesitliKaynak/SummaryForMe/sum2.ipynb#X44sZmlsZQ%3D%3D?line=6'>7</a>\u001b[0m     \u001b[39mprint\u001b[39m(c \u001b[39m*\u001b[39m \u001b[39m2\u001b[39m)\n\u001b[1;32m      <a href='vscode-notebook-cell:/Users/erbaygursel/Documents/GitHub/PythonTemelleriCesitliKaynak/SummaryForMe/sum2.ipynb#X44sZmlsZQ%3D%3D?line=7'>8</a>\u001b[0m toplam \u001b[39m=\u001b[39m toplama(\u001b[39m4\u001b[39m,\u001b[39m5\u001b[39m)\n\u001b[0;32m----> <a href='vscode-notebook-cell:/Users/erbaygursel/Documents/GitHub/PythonTemelleriCesitliKaynak/SummaryForMe/sum2.ipynb#X44sZmlsZQ%3D%3D?line=8'>9</a>\u001b[0m \u001b[39mprint\u001b[39m(ikiylecarp(toplam))\n",
      "\u001b[1;32m/Users/erbaygursel/Documents/GitHub/PythonTemelleriCesitliKaynak/SummaryForMe/sum2.ipynb Cell 30\u001b[0m line \u001b[0;36m7\n\u001b[1;32m      <a href='vscode-notebook-cell:/Users/erbaygursel/Documents/GitHub/PythonTemelleriCesitliKaynak/SummaryForMe/sum2.ipynb#X44sZmlsZQ%3D%3D?line=5'>6</a>\u001b[0m \u001b[39mdef\u001b[39;00m \u001b[39mikiylecarp\u001b[39m(c):\n\u001b[0;32m----> <a href='vscode-notebook-cell:/Users/erbaygursel/Documents/GitHub/PythonTemelleriCesitliKaynak/SummaryForMe/sum2.ipynb#X44sZmlsZQ%3D%3D?line=6'>7</a>\u001b[0m     \u001b[39mprint\u001b[39m(c \u001b[39m*\u001b[39;49m \u001b[39m2\u001b[39;49m)\n",
      "\u001b[0;31mTypeError\u001b[0m: unsupported operand type(s) for *: 'NoneType' and 'int'"
     ]
    }
   ],
   "source": [
    "# Fonksiyonlar \"print\" (->> NoneType) ile  sadece bulunduğu yerde çalışır ve değer kaydedilmez.\n",
    "# Return de ise aldığımız değeri başka yerde kullanabiliyoruz.\n",
    "\n",
    "def toplama(a,b):\n",
    "    print(a+b)\n",
    "def ikiylecarp(c):\n",
    "    print(c * 2)\n",
    "toplam = toplama(4,5)\n",
    "print(ikiylecarp(toplam))"
   ]
  },
  {
   "cell_type": "code",
   "execution_count": 7,
   "metadata": {},
   "outputs": [
    {
     "name": "stdout",
     "output_type": "stream",
     "text": [
      "ahahah\n",
      "22\n"
     ]
    }
   ],
   "source": [
    "def toplama(a = 0,b = 0):\n",
    "    return(a+b)\n",
    "    print(\"asdasd\") # -->> return'den sonra bir şey çalışmaz.\n",
    "def ikiylecarp(c):\n",
    "    print(\"ahahah\")\n",
    "    return(c * 2)\n",
    "\n",
    "\n",
    "toplam = toplama(5,6)\n",
    "print(ikiylecarp(toplam))\n",
    "\n",
    "# Fark ortada, değer toplam değişkine atandı ve süreç devam etti. Sonuç geldi."
   ]
  },
  {
   "cell_type": "code",
   "execution_count": 11,
   "metadata": {},
   "outputs": [
    {
     "name": "stdout",
     "output_type": "stream",
     "text": [
      "3\n",
      "3\n"
     ]
    }
   ],
   "source": [
    "# Global ve Yerel değişkenler\n",
    "\n",
    "## Tanımlanan fonksiyonun tamamlanandıktan sonra içinde bulunan değişkenler yok olur. (Local)\n",
    "\n",
    "d = 5\n",
    "def fonksiyon():\n",
    "    global d\n",
    "    d = 3\n",
    "    print(d)\n",
    "fonksiyon()\n",
    "print(d)"
   ]
  },
  {
   "cell_type": "code",
   "execution_count": 15,
   "metadata": {},
   "outputs": [
    {
     "name": "stdout",
     "output_type": "stream",
     "text": [
      "15\n",
      "7\n"
     ]
    },
    {
     "data": {
      "text/plain": [
       "'nohtyP'"
      ]
     },
     "execution_count": 15,
     "metadata": {},
     "output_type": "execute_result"
    }
   ],
   "source": [
    "#Lambda ifadesi (return kullanır.)\n",
    "\n",
    "ücleçarp = lambda x : x * 3\n",
    "\n",
    "print(ücleçarp(5))\n",
    "\n",
    "toplama1 = lambda x,y,z : x + y + z\n",
    "print(toplama1(1,2,4))\n",
    "\n",
    "terscevir = lambda s : s[::-1]\n",
    "\n",
    "terscevir(\"Python\")"
   ]
  },
  {
   "cell_type": "code",
   "execution_count": 22,
   "metadata": {},
   "outputs": [
    {
     "name": "stdout",
     "output_type": "stream",
     "text": [
      "1  asal değildir.\n",
      "2  asaldır.\n",
      "3  asaldır.\n",
      "4  asal değildir.\n",
      "5  asaldır.\n",
      "6  asal değildir.\n"
     ]
    }
   ],
   "source": [
    "# Asal mı?\n",
    "\n",
    "def asal(sayı):\n",
    "    if sayı == 1:\n",
    "        return False\n",
    "    elif sayı == 2:\n",
    "        return True\n",
    "    else:\n",
    "        for i in range(2,sayı):\n",
    "            if sayı % i == 0:\n",
    "                return False\n",
    "            return True\n",
    "\n",
    "while True:\n",
    "    sayı = input(\"Sayı giriniz.\")\n",
    "\n",
    "    if sayı == \"q\":\n",
    "        break\n",
    "    else:\n",
    "        sayı = int(sayı)\n",
    "\n",
    "        if asal(sayı) == True :\n",
    "            print(sayı, \" asaldır.\")\n",
    "        else:\n",
    "            print(sayı, \" asal değildir.\")"
   ]
  },
  {
   "cell_type": "code",
   "execution_count": null,
   "metadata": {},
   "outputs": [],
   "source": []
  }
 ],
 "metadata": {
  "kernelspec": {
   "display_name": "Python 3",
   "language": "python",
   "name": "python3"
  },
  "language_info": {
   "codemirror_mode": {
    "name": "ipython",
    "version": 3
   },
   "file_extension": ".py",
   "mimetype": "text/x-python",
   "name": "python",
   "nbconvert_exporter": "python",
   "pygments_lexer": "ipython3",
   "version": "3.9.6"
  },
  "orig_nbformat": 4
 },
 "nbformat": 4,
 "nbformat_minor": 2
}
