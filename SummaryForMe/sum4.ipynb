{
 "cells": [
  {
   "cell_type": "code",
   "execution_count": null,
   "metadata": {},
   "outputs": [],
   "source": [
    "# Hatalat ve İstisnalar\n",
    "\n",
    "NameError -> Tanımlı değil\n",
    "ValueError -> Değer hatası\n",
    "ZeroDivisionError -> Tanımsızlık hatası\n",
    "SyntaxError -> Geçersiz syntax\n",
    "vs..."
   ]
  },
  {
   "cell_type": "code",
   "execution_count": null,
   "metadata": {},
   "outputs": [],
   "source": [
    "# try, except, finally...\n",
    "try:\n",
    "    hatalar çıkaracak kodlar\n",
    "except hata1:\n",
    "    hata oluşunca burası çalışacak\n",
    "finally:\n",
    "    Mutlaka çalışması gereken kodlar\n",
    "    \n"
   ]
  },
  {
   "cell_type": "code",
   "execution_count": null,
   "metadata": {},
   "outputs": [],
   "source": [
    "a = int(\"asdasdasd\") # ValurError"
   ]
  },
  {
   "cell_type": "code",
   "execution_count": 3,
   "metadata": {},
   "outputs": [
    {
     "name": "stdout",
     "output_type": "stream",
     "text": [
      "Hata oluştu->>ValueError\n",
      "Bloklar sona erdi.\n"
     ]
    }
   ],
   "source": [
    "try:\n",
    "    a = int(\"asdasdasd\")\n",
    "    print(\"Program burada.\")\n",
    "except:\n",
    "    print(\"Hata oluştu->>ValueError\")\n",
    "print(\"Bloklar sona erdi.\")"
   ]
  },
  {
   "cell_type": "code",
   "execution_count": 5,
   "metadata": {},
   "outputs": [
    {
     "name": "stdout",
     "output_type": "stream",
     "text": [
      "Program burada.Hata yok.\n",
      "Bloklar sona erdi.\n"
     ]
    }
   ],
   "source": [
    "try:\n",
    "    a = int(\"12\")\n",
    "    print(\"Program burada.Hata yok.\")\n",
    "except:\n",
    "    print(\"Hata oluştu->>ValueError\")\n",
    "print(\"Bloklar sona erdi.\")"
   ]
  },
  {
   "cell_type": "code",
   "execution_count": 15,
   "metadata": {},
   "outputs": [
    {
     "name": "stdout",
     "output_type": "stream",
     "text": [
      "0 a bölünemez.\n",
      "Burası çalştı.\n",
      "Bloklar sona erdi.\n"
     ]
    }
   ],
   "source": [
    "try:\n",
    "    a = int(input(\"Sayı 1: \"))\n",
    "    b = int(input(\"Sayı 2: \"))\n",
    "    print(a / b)\n",
    "except ValueError:\n",
    "    print(\"Doğru değer türü girin.\")\n",
    "except ZeroDivisionError:\n",
    "    print(\"0 a bölünemez.\")\n",
    "finally:\n",
    "    print(\"Burası çalştı.\")\n",
    "print(\"Bloklar sona erdi.\")\n",
    "\n"
   ]
  },
  {
   "cell_type": "code",
   "execution_count": null,
   "metadata": {},
   "outputs": [],
   "source": [
    "# Hata fırlatmak...\n",
    "raise HataAdı(opsiyonel mesaj)"
   ]
  },
  {
   "cell_type": "code",
   "execution_count": 16,
   "metadata": {},
   "outputs": [],
   "source": [
    "def terscevir(s):\n",
    "    if type(s) != str:\n",
    "        raise ValueError(\"Lütfen string değer gönderin.\")# Hatayı bu açıklama özelleştirdik.\n",
    "    else:\n",
    "        return s[::-1]\n"
   ]
  },
  {
   "cell_type": "code",
   "execution_count": 18,
   "metadata": {},
   "outputs": [
    {
     "ename": "ValueError",
     "evalue": "Lütfen string değer gönderin.",
     "output_type": "error",
     "traceback": [
      "\u001b[0;31m---------------------------------------------------------------------------\u001b[0m",
      "\u001b[0;31mValueError\u001b[0m                                Traceback (most recent call last)",
      "\u001b[1;32m/Users/erbaygursel/Documents/GitHub/PythonTemelleriCesitliKaynak/SummaryForMe/sum4.ipynb Cell 9\u001b[0m line \u001b[0;36m1\n\u001b[0;32m----> <a href='vscode-notebook-cell:/Users/erbaygursel/Documents/GitHub/PythonTemelleriCesitliKaynak/SummaryForMe/sum4.ipynb#X11sZmlsZQ%3D%3D?line=0'>1</a>\u001b[0m \u001b[39mprint\u001b[39m(terscevir(\u001b[39m12\u001b[39;49m))\n",
      "\u001b[1;32m/Users/erbaygursel/Documents/GitHub/PythonTemelleriCesitliKaynak/SummaryForMe/sum4.ipynb Cell 9\u001b[0m line \u001b[0;36m3\n\u001b[1;32m      <a href='vscode-notebook-cell:/Users/erbaygursel/Documents/GitHub/PythonTemelleriCesitliKaynak/SummaryForMe/sum4.ipynb#X11sZmlsZQ%3D%3D?line=0'>1</a>\u001b[0m \u001b[39mdef\u001b[39;00m \u001b[39mterscevir\u001b[39m(s):\n\u001b[1;32m      <a href='vscode-notebook-cell:/Users/erbaygursel/Documents/GitHub/PythonTemelleriCesitliKaynak/SummaryForMe/sum4.ipynb#X11sZmlsZQ%3D%3D?line=1'>2</a>\u001b[0m     \u001b[39mif\u001b[39;00m \u001b[39mtype\u001b[39m(s) \u001b[39m!=\u001b[39m \u001b[39mstr\u001b[39m:\n\u001b[0;32m----> <a href='vscode-notebook-cell:/Users/erbaygursel/Documents/GitHub/PythonTemelleriCesitliKaynak/SummaryForMe/sum4.ipynb#X11sZmlsZQ%3D%3D?line=2'>3</a>\u001b[0m         \u001b[39mraise\u001b[39;00m \u001b[39mValueError\u001b[39;00m(\u001b[39m\"\u001b[39m\u001b[39mLütfen string değer gönderin.\u001b[39m\u001b[39m\"\u001b[39m)\n\u001b[1;32m      <a href='vscode-notebook-cell:/Users/erbaygursel/Documents/GitHub/PythonTemelleriCesitliKaynak/SummaryForMe/sum4.ipynb#X11sZmlsZQ%3D%3D?line=3'>4</a>\u001b[0m     \u001b[39melse\u001b[39;00m:\n\u001b[1;32m      <a href='vscode-notebook-cell:/Users/erbaygursel/Documents/GitHub/PythonTemelleriCesitliKaynak/SummaryForMe/sum4.ipynb#X11sZmlsZQ%3D%3D?line=4'>5</a>\u001b[0m         \u001b[39mreturn\u001b[39;00m s[::\u001b[39m-\u001b[39m\u001b[39m1\u001b[39m]\n",
      "\u001b[0;31mValueError\u001b[0m: Lütfen string değer gönderin."
     ]
    }
   ],
   "source": [
    "print(terscevir(12))"
   ]
  },
  {
   "cell_type": "code",
   "execution_count": 19,
   "metadata": {},
   "outputs": [
    {
     "name": "stdout",
     "output_type": "stream",
     "text": [
      "Fonksiyon hata verdi.\n"
     ]
    }
   ],
   "source": [
    "try:\n",
    "    print(terscevir(23))\n",
    "except ValueError:\n",
    "    print(\"Fonksiyon hata verdi.\")"
   ]
  },
  {
   "cell_type": "code",
   "execution_count": null,
   "metadata": {},
   "outputs": [],
   "source": [
    "# Dosya açma ve yazma işleri...\n",
    "open(dosyaAdı, dosyaErişmeKipi)\n"
   ]
  },
  {
   "cell_type": "code",
   "execution_count": 20,
   "metadata": {},
   "outputs": [
    {
     "data": {
      "text/plain": [
       "<_io.TextIOWrapper name='bilgiler.txt' mode='w' encoding='UTF-8'>"
      ]
     },
     "execution_count": 20,
     "metadata": {},
     "output_type": "execute_result"
    }
   ],
   "source": [
    "open(\"bilgiler.txt\",\"w\")"
   ]
  },
  {
   "cell_type": "code",
   "execution_count": 21,
   "metadata": {},
   "outputs": [],
   "source": [
    "file = open(\"bilgiler.txt\",\"w\")\n"
   ]
  },
  {
   "cell_type": "code",
   "execution_count": 22,
   "metadata": {},
   "outputs": [],
   "source": [
    "file.close() # Dosya kapama"
   ]
  },
  {
   "cell_type": "code",
   "execution_count": 28,
   "metadata": {},
   "outputs": [],
   "source": [
    "dosya = open(\"Deneme.txt\", \"w\", encoding=\"utf-8\")"
   ]
  },
  {
   "cell_type": "code",
   "execution_count": 29,
   "metadata": {},
   "outputs": [
    {
     "data": {
      "text/plain": [
       "5"
      ]
     },
     "execution_count": 29,
     "metadata": {},
     "output_type": "execute_result"
    }
   ],
   "source": [
    "dosya.write(\"Erbay\")"
   ]
  },
  {
   "cell_type": "code",
   "execution_count": 33,
   "metadata": {},
   "outputs": [],
   "source": [
    "dosya.close()"
   ]
  },
  {
   "cell_type": "code",
   "execution_count": 34,
   "metadata": {},
   "outputs": [],
   "source": [
    "dosya = open(\"Deneme.txt\", \"a\", encoding=\"utf-8\")\n",
    "# a ->> W gibi dosyayı silmez, varolan dosyaya ekleme yapar.(append)"
   ]
  },
  {
   "cell_type": "code",
   "execution_count": 35,
   "metadata": {},
   "outputs": [
    {
     "data": {
      "text/plain": [
       "117"
      ]
     },
     "execution_count": 35,
     "metadata": {},
     "output_type": "execute_result"
    }
   ],
   "source": [
    "dosya.write(\"a metodu append'den geliyor. Yeni dosya oluşturmuyor eğer varsa, ama yoksa yeni dosya oluşturup içine ekleme yapıyor.\")"
   ]
  },
  {
   "cell_type": "code",
   "execution_count": 36,
   "metadata": {},
   "outputs": [],
   "source": [
    "dosya.close()"
   ]
  },
  {
   "cell_type": "code",
   "execution_count": 41,
   "metadata": {},
   "outputs": [],
   "source": [
    "dosya = open(\"Deneme.txt\", \"a\", encoding=\"utf-8\")"
   ]
  },
  {
   "cell_type": "code",
   "execution_count": 42,
   "metadata": {},
   "outputs": [
    {
     "data": {
      "text/plain": [
       "43"
      ]
     },
     "execution_count": 42,
     "metadata": {},
     "output_type": "execute_result"
    }
   ],
   "source": [
    "dosya.write(\"alt satıra geçme denemesi\\nNEREDE KALMIŞTIK?\")"
   ]
  },
  {
   "cell_type": "code",
   "execution_count": 43,
   "metadata": {},
   "outputs": [],
   "source": [
    "dosya.close()"
   ]
  },
  {
   "cell_type": "code",
   "execution_count": null,
   "metadata": {},
   "outputs": [],
   "source": []
  }
 ],
 "metadata": {
  "kernelspec": {
   "display_name": "Python 3",
   "language": "python",
   "name": "python3"
  },
  "language_info": {
   "codemirror_mode": {
    "name": "ipython",
    "version": 3
   },
   "file_extension": ".py",
   "mimetype": "text/x-python",
   "name": "python",
   "nbconvert_exporter": "python",
   "pygments_lexer": "ipython3",
   "version": "3.9.6"
  },
  "orig_nbformat": 4
 },
 "nbformat": 4,
 "nbformat_minor": 2
}
